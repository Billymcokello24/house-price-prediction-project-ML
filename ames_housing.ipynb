{
 "cells": [
  {
   "cell_type": "markdown",
   "id": "797bdd13",
   "metadata": {},
   "source": [
    "Documentation for this dataset may be found at: http://jse.amstat.org/v19n3/decock/DataDocumentation.txt"
   ]
  },
  {
   "cell_type": "code",
   "execution_count": 3,
   "id": "7ec27661",
   "metadata": {},
   "outputs": [
    {
     "data": {
      "text/html": [
       "<div>\n",
       "<style scoped>\n",
       "    .dataframe tbody tr th:only-of-type {\n",
       "        vertical-align: middle;\n",
       "    }\n",
       "\n",
       "    .dataframe tbody tr th {\n",
       "        vertical-align: top;\n",
       "    }\n",
       "\n",
       "    .dataframe thead th {\n",
       "        text-align: right;\n",
       "    }\n",
       "</style>\n",
       "<table border=\"1\" class=\"dataframe\">\n",
       "  <thead>\n",
       "    <tr style=\"text-align: right;\">\n",
       "      <th></th>\n",
       "      <th>Overall Qual</th>\n",
       "      <th>Overall Cond</th>\n",
       "      <th>Total Bsmt SF</th>\n",
       "      <th>Central Air</th>\n",
       "      <th>Gr Liv Area</th>\n",
       "      <th>SalePrice</th>\n",
       "    </tr>\n",
       "  </thead>\n",
       "  <tbody>\n",
       "    <tr>\n",
       "      <th>0</th>\n",
       "      <td>6</td>\n",
       "      <td>5</td>\n",
       "      <td>1080.0</td>\n",
       "      <td>Y</td>\n",
       "      <td>1656</td>\n",
       "      <td>215000</td>\n",
       "    </tr>\n",
       "    <tr>\n",
       "      <th>1</th>\n",
       "      <td>5</td>\n",
       "      <td>6</td>\n",
       "      <td>882.0</td>\n",
       "      <td>Y</td>\n",
       "      <td>896</td>\n",
       "      <td>105000</td>\n",
       "    </tr>\n",
       "    <tr>\n",
       "      <th>2</th>\n",
       "      <td>6</td>\n",
       "      <td>6</td>\n",
       "      <td>1329.0</td>\n",
       "      <td>Y</td>\n",
       "      <td>1329</td>\n",
       "      <td>172000</td>\n",
       "    </tr>\n",
       "    <tr>\n",
       "      <th>3</th>\n",
       "      <td>7</td>\n",
       "      <td>5</td>\n",
       "      <td>2110.0</td>\n",
       "      <td>Y</td>\n",
       "      <td>2110</td>\n",
       "      <td>244000</td>\n",
       "    </tr>\n",
       "    <tr>\n",
       "      <th>4</th>\n",
       "      <td>5</td>\n",
       "      <td>5</td>\n",
       "      <td>928.0</td>\n",
       "      <td>Y</td>\n",
       "      <td>1629</td>\n",
       "      <td>189900</td>\n",
       "    </tr>\n",
       "  </tbody>\n",
       "</table>\n",
       "</div>"
      ],
      "text/plain": [
       "   Overall Qual  Overall Cond  Total Bsmt SF Central Air  Gr Liv Area  \\\n",
       "0             6             5         1080.0           Y         1656   \n",
       "1             5             6          882.0           Y          896   \n",
       "2             6             6         1329.0           Y         1329   \n",
       "3             7             5         2110.0           Y         2110   \n",
       "4             5             5          928.0           Y         1629   \n",
       "\n",
       "   SalePrice  \n",
       "0     215000  \n",
       "1     105000  \n",
       "2     172000  \n",
       "3     244000  \n",
       "4     189900  "
      ]
     },
     "execution_count": 3,
     "metadata": {},
     "output_type": "execute_result"
    }
   ],
   "source": [
    "import pandas as pd\n",
    "\n",
    "\n",
    "columns = ['Overall Qual', 'Overall Cond', 'Gr Liv Area',\n",
    "           'Central Air', 'Total Bsmt SF', 'SalePrice']\n",
    "\n",
    "df = pd.read_csv('http://jse.amstat.org/v19n3/decock/AmesHousing.txt', \n",
    "                 sep='\\t',\n",
    "                 usecols=columns)\n",
    "\n",
    "df.head()"
   ]
  },
  {
   "cell_type": "code",
   "execution_count": 69,
   "id": "d2bb0289",
   "metadata": {},
   "outputs": [],
   "source": [
    "import warnings\n",
    "warnings.filterwarnings('ignore')"
   ]
  },
  {
   "cell_type": "code",
   "execution_count": 70,
   "id": "610a88de",
   "metadata": {},
   "outputs": [],
   "source": [
    "df.to_csv(\"ames_housing.csv\", index = False)"
   ]
  },
  {
   "cell_type": "code",
   "execution_count": 71,
   "id": "6640e1dd",
   "metadata": {},
   "outputs": [
    {
     "name": "stdout",
     "output_type": "stream",
     "text": [
      "Requirement already satisfied: skimpy in c:\\users\\billy ke\\anaconda3\\lib\\site-packages (0.0.11)"
     ]
    },
    {
     "name": "stderr",
     "output_type": "stream",
     "text": [
      "ERROR: pip's dependency resolver does not currently take into account all the packages that are installed. This behaviour is the source of the following dependency conflicts.\n",
      "bamboolib 1.30.19 requires pandas<2.0.0,>=1.1.0, but you have pandas 2.1.1 which is incompatible.\n",
      "ppscore 1.3.0 requires pandas<2.0.0,>=1.0.0, but you have pandas 2.1.1 which is incompatible.\n"
     ]
    },
    {
     "name": "stdout",
     "output_type": "stream",
     "text": [
      "\n",
      "Requirement already satisfied: Pygments<3.0.0,>=2.10.0 in c:\\users\\billy ke\\anaconda3\\lib\\site-packages (from skimpy) (2.15.1)\n",
      "Requirement already satisfied: click<9.0.0,>=8.1.6 in c:\\users\\billy ke\\anaconda3\\lib\\site-packages (from skimpy) (8.1.7)\n",
      "Requirement already satisfied: ipykernel<7.0.0,>=6.7.0 in c:\\users\\billy ke\\anaconda3\\lib\\site-packages (from skimpy) (6.19.2)\n",
      "Requirement already satisfied: jupyter<2.0.0,>=1.0.0 in c:\\users\\billy ke\\anaconda3\\lib\\site-packages (from skimpy) (1.0.0)\n",
      "Requirement already satisfied: numpy<2.0.0,>=1.22.2 in c:\\users\\billy ke\\anaconda3\\lib\\site-packages (from skimpy) (1.24.3)\n",
      "Collecting pandas<3.0.0,>=2.0.3 (from skimpy)\n",
      "  Obtaining dependency information for pandas<3.0.0,>=2.0.3 from https://files.pythonhosted.org/packages/2d/5e/9213ea10ac473e2437dc2cb17323ddc0999997e2713d6a0b683b10773994/pandas-2.1.1-cp311-cp311-win_amd64.whl.metadata\n",
      "  Using cached pandas-2.1.1-cp311-cp311-win_amd64.whl.metadata (18 kB)\n",
      "Requirement already satisfied: polars<0.20.0,>=0.19.0 in c:\\users\\billy ke\\anaconda3\\lib\\site-packages (from skimpy) (0.19.7)\n",
      "Requirement already satisfied: pyarrow<14.0.0,>=13.0.0 in c:\\users\\billy ke\\anaconda3\\lib\\site-packages (from skimpy) (13.0.0)\n",
      "Requirement already satisfied: rich<14.0,>=10.9 in c:\\users\\billy ke\\anaconda3\\lib\\site-packages (from skimpy) (13.6.0)\n",
      "Requirement already satisfied: typeguard==4.1.4 in c:\\users\\billy ke\\anaconda3\\lib\\site-packages (from skimpy) (4.1.4)\n",
      "Requirement already satisfied: typing-extensions>=4.7.0 in c:\\users\\billy ke\\anaconda3\\lib\\site-packages (from typeguard==4.1.4->skimpy) (4.7.1)\n",
      "Requirement already satisfied: colorama in c:\\users\\billy ke\\anaconda3\\lib\\site-packages (from click<9.0.0,>=8.1.6->skimpy) (0.4.6)\n",
      "Requirement already satisfied: comm>=0.1.1 in c:\\users\\billy ke\\anaconda3\\lib\\site-packages (from ipykernel<7.0.0,>=6.7.0->skimpy) (0.1.4)\n",
      "Requirement already satisfied: debugpy>=1.0 in c:\\users\\billy ke\\anaconda3\\lib\\site-packages (from ipykernel<7.0.0,>=6.7.0->skimpy) (1.6.7)\n",
      "Requirement already satisfied: ipython>=7.23.1 in c:\\users\\billy ke\\anaconda3\\lib\\site-packages (from ipykernel<7.0.0,>=6.7.0->skimpy) (8.12.0)\n",
      "Requirement already satisfied: jupyter-client>=6.1.12 in c:\\users\\billy ke\\anaconda3\\lib\\site-packages (from ipykernel<7.0.0,>=6.7.0->skimpy) (7.4.9)\n",
      "Requirement already satisfied: matplotlib-inline>=0.1 in c:\\users\\billy ke\\anaconda3\\lib\\site-packages (from ipykernel<7.0.0,>=6.7.0->skimpy) (0.1.6)\n",
      "Requirement already satisfied: nest-asyncio in c:\\users\\billy ke\\anaconda3\\lib\\site-packages (from ipykernel<7.0.0,>=6.7.0->skimpy) (1.5.6)\n",
      "Requirement already satisfied: packaging in c:\\users\\billy ke\\anaconda3\\lib\\site-packages (from ipykernel<7.0.0,>=6.7.0->skimpy) (23.0)\n",
      "Requirement already satisfied: psutil in c:\\users\\billy ke\\anaconda3\\lib\\site-packages (from ipykernel<7.0.0,>=6.7.0->skimpy) (5.9.0)\n",
      "Requirement already satisfied: pyzmq>=17 in c:\\users\\billy ke\\anaconda3\\lib\\site-packages (from ipykernel<7.0.0,>=6.7.0->skimpy) (23.2.0)\n",
      "Requirement already satisfied: tornado>=6.1 in c:\\users\\billy ke\\anaconda3\\lib\\site-packages (from ipykernel<7.0.0,>=6.7.0->skimpy) (6.3.2)\n",
      "Requirement already satisfied: traitlets>=5.4.0 in c:\\users\\billy ke\\anaconda3\\lib\\site-packages (from ipykernel<7.0.0,>=6.7.0->skimpy) (5.7.1)\n",
      "Requirement already satisfied: notebook in c:\\users\\billy ke\\anaconda3\\lib\\site-packages (from jupyter<2.0.0,>=1.0.0->skimpy) (6.5.4)\n",
      "Requirement already satisfied: qtconsole in c:\\users\\billy ke\\anaconda3\\lib\\site-packages (from jupyter<2.0.0,>=1.0.0->skimpy) (5.4.2)\n",
      "Requirement already satisfied: jupyter-console in c:\\users\\billy ke\\anaconda3\\lib\\site-packages (from jupyter<2.0.0,>=1.0.0->skimpy) (6.6.3)\n",
      "Requirement already satisfied: nbconvert in c:\\users\\billy ke\\anaconda3\\lib\\site-packages (from jupyter<2.0.0,>=1.0.0->skimpy) (6.5.4)\n",
      "Requirement already satisfied: ipywidgets in c:\\users\\billy ke\\anaconda3\\lib\\site-packages (from jupyter<2.0.0,>=1.0.0->skimpy) (7.8.1)\n",
      "Requirement already satisfied: python-dateutil>=2.8.2 in c:\\users\\billy ke\\anaconda3\\lib\\site-packages (from pandas<3.0.0,>=2.0.3->skimpy) (2.8.2)\n",
      "Requirement already satisfied: pytz>=2020.1 in c:\\users\\billy ke\\anaconda3\\lib\\site-packages (from pandas<3.0.0,>=2.0.3->skimpy) (2022.7)\n",
      "Requirement already satisfied: tzdata>=2022.1 in c:\\users\\billy ke\\anaconda3\\lib\\site-packages (from pandas<3.0.0,>=2.0.3->skimpy) (2023.3)\n",
      "Requirement already satisfied: markdown-it-py>=2.2.0 in c:\\users\\billy ke\\anaconda3\\lib\\site-packages (from rich<14.0,>=10.9->skimpy) (2.2.0)\n",
      "Requirement already satisfied: backcall in c:\\users\\billy ke\\anaconda3\\lib\\site-packages (from ipython>=7.23.1->ipykernel<7.0.0,>=6.7.0->skimpy) (0.2.0)\n",
      "Requirement already satisfied: decorator in c:\\users\\billy ke\\anaconda3\\lib\\site-packages (from ipython>=7.23.1->ipykernel<7.0.0,>=6.7.0->skimpy) (5.1.1)\n",
      "Requirement already satisfied: jedi>=0.16 in c:\\users\\billy ke\\anaconda3\\lib\\site-packages (from ipython>=7.23.1->ipykernel<7.0.0,>=6.7.0->skimpy) (0.18.1)\n",
      "Requirement already satisfied: pickleshare in c:\\users\\billy ke\\anaconda3\\lib\\site-packages (from ipython>=7.23.1->ipykernel<7.0.0,>=6.7.0->skimpy) (0.7.5)\n",
      "Requirement already satisfied: prompt-toolkit!=3.0.37,<3.1.0,>=3.0.30 in c:\\users\\billy ke\\anaconda3\\lib\\site-packages (from ipython>=7.23.1->ipykernel<7.0.0,>=6.7.0->skimpy) (3.0.36)\n",
      "Requirement already satisfied: stack-data in c:\\users\\billy ke\\anaconda3\\lib\\site-packages (from ipython>=7.23.1->ipykernel<7.0.0,>=6.7.0->skimpy) (0.2.0)\n",
      "Requirement already satisfied: entrypoints in c:\\users\\billy ke\\anaconda3\\lib\\site-packages (from jupyter-client>=6.1.12->ipykernel<7.0.0,>=6.7.0->skimpy) (0.4)\n",
      "Requirement already satisfied: jupyter-core>=4.9.2 in c:\\users\\billy ke\\anaconda3\\lib\\site-packages (from jupyter-client>=6.1.12->ipykernel<7.0.0,>=6.7.0->skimpy) (5.3.0)\n",
      "Requirement already satisfied: mdurl~=0.1 in c:\\users\\billy ke\\anaconda3\\lib\\site-packages (from markdown-it-py>=2.2.0->rich<14.0,>=10.9->skimpy) (0.1.0)\n",
      "Requirement already satisfied: six>=1.5 in c:\\users\\billy ke\\anaconda3\\lib\\site-packages (from python-dateutil>=2.8.2->pandas<3.0.0,>=2.0.3->skimpy) (1.16.0)\n",
      "Requirement already satisfied: ipython-genutils~=0.2.0 in c:\\users\\billy ke\\anaconda3\\lib\\site-packages (from ipywidgets->jupyter<2.0.0,>=1.0.0->skimpy) (0.2.0)\n",
      "Requirement already satisfied: widgetsnbextension~=3.6.6 in c:\\users\\billy ke\\anaconda3\\lib\\site-packages (from ipywidgets->jupyter<2.0.0,>=1.0.0->skimpy) (3.6.6)\n",
      "Requirement already satisfied: jupyterlab-widgets<3,>=1.0.0 in c:\\users\\billy ke\\anaconda3\\lib\\site-packages (from ipywidgets->jupyter<2.0.0,>=1.0.0->skimpy) (1.1.7)\n",
      "Requirement already satisfied: lxml in c:\\users\\billy ke\\anaconda3\\lib\\site-packages (from nbconvert->jupyter<2.0.0,>=1.0.0->skimpy) (4.9.2)\n",
      "Requirement already satisfied: beautifulsoup4 in c:\\users\\billy ke\\anaconda3\\lib\\site-packages (from nbconvert->jupyter<2.0.0,>=1.0.0->skimpy) (4.12.2)\n",
      "Requirement already satisfied: bleach in c:\\users\\billy ke\\anaconda3\\lib\\site-packages (from nbconvert->jupyter<2.0.0,>=1.0.0->skimpy) (4.1.0)\n",
      "Requirement already satisfied: defusedxml in c:\\users\\billy ke\\anaconda3\\lib\\site-packages (from nbconvert->jupyter<2.0.0,>=1.0.0->skimpy) (0.7.1)\n",
      "Requirement already satisfied: jinja2>=3.0 in c:\\users\\billy ke\\anaconda3\\lib\\site-packages (from nbconvert->jupyter<2.0.0,>=1.0.0->skimpy) (3.1.2)\n",
      "Requirement already satisfied: jupyterlab-pygments in c:\\users\\billy ke\\anaconda3\\lib\\site-packages (from nbconvert->jupyter<2.0.0,>=1.0.0->skimpy) (0.1.2)\n",
      "Requirement already satisfied: MarkupSafe>=2.0 in c:\\users\\billy ke\\anaconda3\\lib\\site-packages (from nbconvert->jupyter<2.0.0,>=1.0.0->skimpy) (2.1.1)\n",
      "Requirement already satisfied: mistune<2,>=0.8.1 in c:\\users\\billy ke\\anaconda3\\lib\\site-packages (from nbconvert->jupyter<2.0.0,>=1.0.0->skimpy) (0.8.4)\n",
      "Requirement already satisfied: nbclient>=0.5.0 in c:\\users\\billy ke\\anaconda3\\lib\\site-packages (from nbconvert->jupyter<2.0.0,>=1.0.0->skimpy) (0.5.13)\n",
      "Requirement already satisfied: nbformat>=5.1 in c:\\users\\billy ke\\anaconda3\\lib\\site-packages (from nbconvert->jupyter<2.0.0,>=1.0.0->skimpy) (5.7.0)\n",
      "Requirement already satisfied: pandocfilters>=1.4.1 in c:\\users\\billy ke\\anaconda3\\lib\\site-packages (from nbconvert->jupyter<2.0.0,>=1.0.0->skimpy) (1.5.0)\n",
      "Requirement already satisfied: tinycss2 in c:\\users\\billy ke\\anaconda3\\lib\\site-packages (from nbconvert->jupyter<2.0.0,>=1.0.0->skimpy) (1.2.1)\n",
      "Requirement already satisfied: argon2-cffi in c:\\users\\billy ke\\anaconda3\\lib\\site-packages (from notebook->jupyter<2.0.0,>=1.0.0->skimpy) (21.3.0)\n",
      "Requirement already satisfied: Send2Trash>=1.8.0 in c:\\users\\billy ke\\anaconda3\\lib\\site-packages (from notebook->jupyter<2.0.0,>=1.0.0->skimpy) (1.8.0)\n",
      "Requirement already satisfied: terminado>=0.8.3 in c:\\users\\billy ke\\anaconda3\\lib\\site-packages (from notebook->jupyter<2.0.0,>=1.0.0->skimpy) (0.17.1)\n",
      "Requirement already satisfied: prometheus-client in c:\\users\\billy ke\\anaconda3\\lib\\site-packages (from notebook->jupyter<2.0.0,>=1.0.0->skimpy) (0.14.1)\n",
      "Requirement already satisfied: nbclassic>=0.4.7 in c:\\users\\billy ke\\anaconda3\\lib\\site-packages (from notebook->jupyter<2.0.0,>=1.0.0->skimpy) (0.5.5)\n",
      "Requirement already satisfied: qtpy>=2.0.1 in c:\\users\\billy ke\\anaconda3\\lib\\site-packages (from qtconsole->jupyter<2.0.0,>=1.0.0->skimpy) (2.2.0)\n",
      "Requirement already satisfied: parso<0.9.0,>=0.8.0 in c:\\users\\billy ke\\anaconda3\\lib\\site-packages (from jedi>=0.16->ipython>=7.23.1->ipykernel<7.0.0,>=6.7.0->skimpy) (0.8.3)\n",
      "Requirement already satisfied: platformdirs>=2.5 in c:\\users\\billy ke\\anaconda3\\lib\\site-packages (from jupyter-core>=4.9.2->jupyter-client>=6.1.12->ipykernel<7.0.0,>=6.7.0->skimpy) (2.5.2)\n",
      "Requirement already satisfied: pywin32>=300 in c:\\users\\billy ke\\anaconda3\\lib\\site-packages (from jupyter-core>=4.9.2->jupyter-client>=6.1.12->ipykernel<7.0.0,>=6.7.0->skimpy) (305.1)\n",
      "Requirement already satisfied: jupyter-server>=1.8 in c:\\users\\billy ke\\anaconda3\\lib\\site-packages (from nbclassic>=0.4.7->notebook->jupyter<2.0.0,>=1.0.0->skimpy) (1.23.4)\n",
      "Requirement already satisfied: notebook-shim>=0.1.0 in c:\\users\\billy ke\\anaconda3\\lib\\site-packages (from nbclassic>=0.4.7->notebook->jupyter<2.0.0,>=1.0.0->skimpy) (0.2.2)\n",
      "Requirement already satisfied: fastjsonschema in c:\\users\\billy ke\\anaconda3\\lib\\site-packages (from nbformat>=5.1->nbconvert->jupyter<2.0.0,>=1.0.0->skimpy) (2.16.2)\n",
      "Requirement already satisfied: jsonschema>=2.6 in c:\\users\\billy ke\\anaconda3\\lib\\site-packages (from nbformat>=5.1->nbconvert->jupyter<2.0.0,>=1.0.0->skimpy) (4.17.3)\n",
      "Requirement already satisfied: wcwidth in c:\\users\\billy ke\\anaconda3\\lib\\site-packages (from prompt-toolkit!=3.0.37,<3.1.0,>=3.0.30->ipython>=7.23.1->ipykernel<7.0.0,>=6.7.0->skimpy) (0.2.5)\n",
      "Requirement already satisfied: pywinpty>=1.1.0 in c:\\users\\billy ke\\anaconda3\\lib\\site-packages (from terminado>=0.8.3->notebook->jupyter<2.0.0,>=1.0.0->skimpy) (2.0.10)\n",
      "Requirement already satisfied: argon2-cffi-bindings in c:\\users\\billy ke\\anaconda3\\lib\\site-packages (from argon2-cffi->notebook->jupyter<2.0.0,>=1.0.0->skimpy) (21.2.0)\n",
      "Requirement already satisfied: soupsieve>1.2 in c:\\users\\billy ke\\anaconda3\\lib\\site-packages (from beautifulsoup4->nbconvert->jupyter<2.0.0,>=1.0.0->skimpy) (2.4)\n",
      "Requirement already satisfied: webencodings in c:\\users\\billy ke\\anaconda3\\lib\\site-packages (from bleach->nbconvert->jupyter<2.0.0,>=1.0.0->skimpy) (0.5.1)\n",
      "Requirement already satisfied: executing in c:\\users\\billy ke\\anaconda3\\lib\\site-packages (from stack-data->ipython>=7.23.1->ipykernel<7.0.0,>=6.7.0->skimpy) (0.8.3)\n",
      "Requirement already satisfied: asttokens in c:\\users\\billy ke\\anaconda3\\lib\\site-packages (from stack-data->ipython>=7.23.1->ipykernel<7.0.0,>=6.7.0->skimpy) (2.0.5)\n",
      "Requirement already satisfied: pure-eval in c:\\users\\billy ke\\anaconda3\\lib\\site-packages (from stack-data->ipython>=7.23.1->ipykernel<7.0.0,>=6.7.0->skimpy) (0.2.2)\n",
      "Requirement already satisfied: attrs>=17.4.0 in c:\\users\\billy ke\\anaconda3\\lib\\site-packages (from jsonschema>=2.6->nbformat>=5.1->nbconvert->jupyter<2.0.0,>=1.0.0->skimpy) (22.1.0)\n",
      "Requirement already satisfied: pyrsistent!=0.17.0,!=0.17.1,!=0.17.2,>=0.14.0 in c:\\users\\billy ke\\anaconda3\\lib\\site-packages (from jsonschema>=2.6->nbformat>=5.1->nbconvert->jupyter<2.0.0,>=1.0.0->skimpy) (0.18.0)\n",
      "Requirement already satisfied: anyio<4,>=3.1.0 in c:\\users\\billy ke\\anaconda3\\lib\\site-packages (from jupyter-server>=1.8->nbclassic>=0.4.7->notebook->jupyter<2.0.0,>=1.0.0->skimpy) (3.5.0)\n",
      "Requirement already satisfied: websocket-client in c:\\users\\billy ke\\anaconda3\\lib\\site-packages (from jupyter-server>=1.8->nbclassic>=0.4.7->notebook->jupyter<2.0.0,>=1.0.0->skimpy) (0.58.0)\n",
      "Requirement already satisfied: cffi>=1.0.1 in c:\\users\\billy ke\\anaconda3\\lib\\site-packages (from argon2-cffi-bindings->argon2-cffi->notebook->jupyter<2.0.0,>=1.0.0->skimpy) (1.15.1)\n",
      "Requirement already satisfied: idna>=2.8 in c:\\users\\billy ke\\anaconda3\\lib\\site-packages (from anyio<4,>=3.1.0->jupyter-server>=1.8->nbclassic>=0.4.7->notebook->jupyter<2.0.0,>=1.0.0->skimpy) (3.4)\n",
      "Requirement already satisfied: sniffio>=1.1 in c:\\users\\billy ke\\anaconda3\\lib\\site-packages (from anyio<4,>=3.1.0->jupyter-server>=1.8->nbclassic>=0.4.7->notebook->jupyter<2.0.0,>=1.0.0->skimpy) (1.2.0)\n",
      "Requirement already satisfied: pycparser in c:\\users\\billy ke\\anaconda3\\lib\\site-packages (from cffi>=1.0.1->argon2-cffi-bindings->argon2-cffi->notebook->jupyter<2.0.0,>=1.0.0->skimpy) (2.21)\n",
      "Using cached pandas-2.1.1-cp311-cp311-win_amd64.whl (10.6 MB)\n",
      "Installing collected packages: pandas\n",
      "  Attempting uninstall: pandas\n",
      "    Found existing installation: pandas 1.5.3\n",
      "    Uninstalling pandas-1.5.3:\n",
      "      Successfully uninstalled pandas-1.5.3\n",
      "Successfully installed pandas-2.1.1\n"
     ]
    }
   ],
   "source": [
    "!pip install skimpy"
   ]
  },
  {
   "cell_type": "code",
   "execution_count": 72,
   "id": "f72b25cb",
   "metadata": {},
   "outputs": [
    {
     "data": {
      "text/html": [
       "<pre style=\"white-space:pre;overflow-x:auto;line-height:normal;font-family:Menlo,'DejaVu Sans Mono',consolas,'Courier New',monospace\">╭──────────────────────────────────────────────── skimpy summary ─────────────────────────────────────────────────╮\n",
       "│ <span style=\"font-style: italic\">         Data Summary         </span> <span style=\"font-style: italic\">      Data Types       </span>                                                          │\n",
       "│ ┏━━━━━━━━━━━━━━━━━━━┳━━━━━━━━┓ ┏━━━━━━━━━━━━━┳━━━━━━━┓                                                          │\n",
       "│ ┃<span style=\"color: #008080; text-decoration-color: #008080; font-weight: bold\"> dataframe         </span>┃<span style=\"color: #008080; text-decoration-color: #008080; font-weight: bold\"> Values </span>┃ ┃<span style=\"color: #008080; text-decoration-color: #008080; font-weight: bold\"> Column Type </span>┃<span style=\"color: #008080; text-decoration-color: #008080; font-weight: bold\"> Count </span>┃                                                          │\n",
       "│ ┡━━━━━━━━━━━━━━━━━━━╇━━━━━━━━┩ ┡━━━━━━━━━━━━━╇━━━━━━━┩                                                          │\n",
       "│ │ Number of rows    │ 2930   │ │ int32       │ 2     │                                                          │\n",
       "│ │ Number of columns │ 2      │ └─────────────┴───────┘                                                          │\n",
       "│ └───────────────────┴────────┘                                                                                  │\n",
       "│ <span style=\"font-style: italic\">                                                    number                                                    </span>  │\n",
       "│ ┏━━━━━━━━━━━━━━━━┳━━━━━┳━━━━━━━┳━━━━━━━━━━┳━━━━━━━━┳━━━━━━━━┳━━━━━━━━━┳━━━━━━━━━┳━━━━━━━━━┳━━━━━━━━━┳━━━━━━━━┓  │\n",
       "│ ┃<span style=\"font-weight: bold\"> column_name    </span>┃<span style=\"font-weight: bold\"> NA  </span>┃<span style=\"font-weight: bold\"> NA %  </span>┃<span style=\"font-weight: bold\"> mean     </span>┃<span style=\"font-weight: bold\"> sd     </span>┃<span style=\"font-weight: bold\"> p0     </span>┃<span style=\"font-weight: bold\"> p25     </span>┃<span style=\"font-weight: bold\"> p50     </span>┃<span style=\"font-weight: bold\"> p75     </span>┃<span style=\"font-weight: bold\"> p100    </span>┃<span style=\"font-weight: bold\"> hist   </span>┃  │\n",
       "│ ┡━━━━━━━━━━━━━━━━╇━━━━━╇━━━━━━━╇━━━━━━━━━━╇━━━━━━━━╇━━━━━━━━╇━━━━━━━━━╇━━━━━━━━━╇━━━━━━━━━╇━━━━━━━━━╇━━━━━━━━┩  │\n",
       "│ │ <span style=\"color: #af87ff; text-decoration-color: #af87ff\">Overall Qual  </span> │ <span style=\"color: #008080; text-decoration-color: #008080\">  0</span> │ <span style=\"color: #008080; text-decoration-color: #008080\">    0</span> │ <span style=\"color: #008080; text-decoration-color: #008080\">     6.1</span> │ <span style=\"color: #008080; text-decoration-color: #008080\">   1.4</span> │ <span style=\"color: #008080; text-decoration-color: #008080\">     1</span> │ <span style=\"color: #008080; text-decoration-color: #008080\">      5</span> │ <span style=\"color: #008080; text-decoration-color: #008080\">      6</span> │ <span style=\"color: #008080; text-decoration-color: #008080\">      7</span> │ <span style=\"color: #008080; text-decoration-color: #008080\">     10</span> │ <span style=\"color: #008000; text-decoration-color: #008000\">  ▇▆▇▁</span> │  │\n",
       "│ │ <span style=\"color: #af87ff; text-decoration-color: #af87ff\">SalePrice     </span> │ <span style=\"color: #008080; text-decoration-color: #008080\">  0</span> │ <span style=\"color: #008080; text-decoration-color: #008080\">    0</span> │ <span style=\"color: #008080; text-decoration-color: #008080\">  180000</span> │ <span style=\"color: #008080; text-decoration-color: #008080\"> 80000</span> │ <span style=\"color: #008080; text-decoration-color: #008080\"> 13000</span> │ <span style=\"color: #008080; text-decoration-color: #008080\"> 130000</span> │ <span style=\"color: #008080; text-decoration-color: #008080\"> 160000</span> │ <span style=\"color: #008080; text-decoration-color: #008080\"> 210000</span> │ <span style=\"color: #008080; text-decoration-color: #008080\"> 760000</span> │ <span style=\"color: #008000; text-decoration-color: #008000\"> ▅▇▁  </span> │  │\n",
       "│ └────────────────┴─────┴───────┴──────────┴────────┴────────┴─────────┴─────────┴─────────┴─────────┴────────┘  │\n",
       "╰────────────────────────────────────────────────────── End ──────────────────────────────────────────────────────╯\n",
       "</pre>\n"
      ],
      "text/plain": [
       "╭──────────────────────────────────────────────── skimpy summary ─────────────────────────────────────────────────╮\n",
       "│ \u001b[3m         Data Summary         \u001b[0m \u001b[3m      Data Types       \u001b[0m                                                          │\n",
       "│ ┏━━━━━━━━━━━━━━━━━━━┳━━━━━━━━┓ ┏━━━━━━━━━━━━━┳━━━━━━━┓                                                          │\n",
       "│ ┃\u001b[1;36m \u001b[0m\u001b[1;36mdataframe        \u001b[0m\u001b[1;36m \u001b[0m┃\u001b[1;36m \u001b[0m\u001b[1;36mValues\u001b[0m\u001b[1;36m \u001b[0m┃ ┃\u001b[1;36m \u001b[0m\u001b[1;36mColumn Type\u001b[0m\u001b[1;36m \u001b[0m┃\u001b[1;36m \u001b[0m\u001b[1;36mCount\u001b[0m\u001b[1;36m \u001b[0m┃                                                          │\n",
       "│ ┡━━━━━━━━━━━━━━━━━━━╇━━━━━━━━┩ ┡━━━━━━━━━━━━━╇━━━━━━━┩                                                          │\n",
       "│ │ Number of rows    │ 2930   │ │ int32       │ 2     │                                                          │\n",
       "│ │ Number of columns │ 2      │ └─────────────┴───────┘                                                          │\n",
       "│ └───────────────────┴────────┘                                                                                  │\n",
       "│ \u001b[3m                                                    number                                                    \u001b[0m  │\n",
       "│ ┏━━━━━━━━━━━━━━━━┳━━━━━┳━━━━━━━┳━━━━━━━━━━┳━━━━━━━━┳━━━━━━━━┳━━━━━━━━━┳━━━━━━━━━┳━━━━━━━━━┳━━━━━━━━━┳━━━━━━━━┓  │\n",
       "│ ┃\u001b[1m \u001b[0m\u001b[1mcolumn_name   \u001b[0m\u001b[1m \u001b[0m┃\u001b[1m \u001b[0m\u001b[1mNA \u001b[0m\u001b[1m \u001b[0m┃\u001b[1m \u001b[0m\u001b[1mNA % \u001b[0m\u001b[1m \u001b[0m┃\u001b[1m \u001b[0m\u001b[1mmean    \u001b[0m\u001b[1m \u001b[0m┃\u001b[1m \u001b[0m\u001b[1msd    \u001b[0m\u001b[1m \u001b[0m┃\u001b[1m \u001b[0m\u001b[1mp0    \u001b[0m\u001b[1m \u001b[0m┃\u001b[1m \u001b[0m\u001b[1mp25    \u001b[0m\u001b[1m \u001b[0m┃\u001b[1m \u001b[0m\u001b[1mp50    \u001b[0m\u001b[1m \u001b[0m┃\u001b[1m \u001b[0m\u001b[1mp75    \u001b[0m\u001b[1m \u001b[0m┃\u001b[1m \u001b[0m\u001b[1mp100   \u001b[0m\u001b[1m \u001b[0m┃\u001b[1m \u001b[0m\u001b[1mhist  \u001b[0m\u001b[1m \u001b[0m┃  │\n",
       "│ ┡━━━━━━━━━━━━━━━━╇━━━━━╇━━━━━━━╇━━━━━━━━━━╇━━━━━━━━╇━━━━━━━━╇━━━━━━━━━╇━━━━━━━━━╇━━━━━━━━━╇━━━━━━━━━╇━━━━━━━━┩  │\n",
       "│ │ \u001b[38;5;141mOverall Qual  \u001b[0m │ \u001b[36m  0\u001b[0m │ \u001b[36m    0\u001b[0m │ \u001b[36m     6.1\u001b[0m │ \u001b[36m   1.4\u001b[0m │ \u001b[36m     1\u001b[0m │ \u001b[36m      5\u001b[0m │ \u001b[36m      6\u001b[0m │ \u001b[36m      7\u001b[0m │ \u001b[36m     10\u001b[0m │ \u001b[32m  ▇▆▇▁\u001b[0m │  │\n",
       "│ │ \u001b[38;5;141mSalePrice     \u001b[0m │ \u001b[36m  0\u001b[0m │ \u001b[36m    0\u001b[0m │ \u001b[36m  180000\u001b[0m │ \u001b[36m 80000\u001b[0m │ \u001b[36m 13000\u001b[0m │ \u001b[36m 130000\u001b[0m │ \u001b[36m 160000\u001b[0m │ \u001b[36m 210000\u001b[0m │ \u001b[36m 760000\u001b[0m │ \u001b[32m ▅▇▁  \u001b[0m │  │\n",
       "│ └────────────────┴─────┴───────┴──────────┴────────┴────────┴─────────┴─────────┴─────────┴─────────┴────────┘  │\n",
       "╰────────────────────────────────────────────────────── End ──────────────────────────────────────────────────────╯\n"
      ]
     },
     "metadata": {},
     "output_type": "display_data"
    }
   ],
   "source": [
    "from skimpy import skim\n",
    "skim(df)"
   ]
  },
  {
   "cell_type": "code",
   "execution_count": 73,
   "id": "af1f3744",
   "metadata": {
    "scrolled": true
   },
   "outputs": [
    {
     "name": "stdout",
     "output_type": "stream",
     "text": [
      "Requirement already satisfied: summarytools in c:\\users\\billy ke\\anaconda3\\lib\\site-packages (0.2.3)\n",
      "Requirement already satisfied: pandas>=1.4.0 in c:\\users\\billy ke\\anaconda3\\lib\\site-packages (from summarytools) (2.1.1)\n",
      "Requirement already satisfied: ipython>=7.20.0 in c:\\users\\billy ke\\anaconda3\\lib\\site-packages (from summarytools) (8.12.0)\n",
      "Requirement already satisfied: numpy>=1.18.5 in c:\\users\\billy ke\\anaconda3\\lib\\site-packages (from summarytools) (1.24.3)\n",
      "Requirement already satisfied: matplotlib>=3.3.0 in c:\\users\\billy ke\\anaconda3\\lib\\site-packages (from summarytools) (3.7.1)\n",
      "Requirement already satisfied: backcall in c:\\users\\billy ke\\anaconda3\\lib\\site-packages (from ipython>=7.20.0->summarytools) (0.2.0)\n",
      "Requirement already satisfied: decorator in c:\\users\\billy ke\\anaconda3\\lib\\site-packages (from ipython>=7.20.0->summarytools) (5.1.1)\n",
      "Requirement already satisfied: jedi>=0.16 in c:\\users\\billy ke\\anaconda3\\lib\\site-packages (from ipython>=7.20.0->summarytools) (0.18.1)\n",
      "Requirement already satisfied: matplotlib-inline in c:\\users\\billy ke\\anaconda3\\lib\\site-packages (from ipython>=7.20.0->summarytools) (0.1.6)\n",
      "Requirement already satisfied: pickleshare in c:\\users\\billy ke\\anaconda3\\lib\\site-packages (from ipython>=7.20.0->summarytools) (0.7.5)\n",
      "Requirement already satisfied: prompt-toolkit!=3.0.37,<3.1.0,>=3.0.30 in c:\\users\\billy ke\\anaconda3\\lib\\site-packages (from ipython>=7.20.0->summarytools) (3.0.36)\n",
      "Requirement already satisfied: pygments>=2.4.0 in c:\\users\\billy ke\\anaconda3\\lib\\site-packages (from ipython>=7.20.0->summarytools) (2.15.1)\n",
      "Requirement already satisfied: stack-data in c:\\users\\billy ke\\anaconda3\\lib\\site-packages (from ipython>=7.20.0->summarytools) (0.2.0)\n",
      "Requirement already satisfied: traitlets>=5 in c:\\users\\billy ke\\anaconda3\\lib\\site-packages (from ipython>=7.20.0->summarytools) (5.7.1)\n",
      "Requirement already satisfied: colorama in c:\\users\\billy ke\\anaconda3\\lib\\site-packages (from ipython>=7.20.0->summarytools) (0.4.6)\n",
      "Requirement already satisfied: contourpy>=1.0.1 in c:\\users\\billy ke\\anaconda3\\lib\\site-packages (from matplotlib>=3.3.0->summarytools) (1.0.5)\n",
      "Requirement already satisfied: cycler>=0.10 in c:\\users\\billy ke\\anaconda3\\lib\\site-packages (from matplotlib>=3.3.0->summarytools) (0.11.0)\n",
      "Requirement already satisfied: fonttools>=4.22.0 in c:\\users\\billy ke\\anaconda3\\lib\\site-packages (from matplotlib>=3.3.0->summarytools) (4.25.0)\n",
      "Requirement already satisfied: kiwisolver>=1.0.1 in c:\\users\\billy ke\\anaconda3\\lib\\site-packages (from matplotlib>=3.3.0->summarytools) (1.4.4)\n",
      "Requirement already satisfied: packaging>=20.0 in c:\\users\\billy ke\\anaconda3\\lib\\site-packages (from matplotlib>=3.3.0->summarytools) (23.0)\n",
      "Requirement already satisfied: pillow>=6.2.0 in c:\\users\\billy ke\\anaconda3\\lib\\site-packages (from matplotlib>=3.3.0->summarytools) (9.4.0)\n",
      "Requirement already satisfied: pyparsing>=2.3.1 in c:\\users\\billy ke\\anaconda3\\lib\\site-packages (from matplotlib>=3.3.0->summarytools) (3.0.9)\n",
      "Requirement already satisfied: python-dateutil>=2.7 in c:\\users\\billy ke\\anaconda3\\lib\\site-packages (from matplotlib>=3.3.0->summarytools) (2.8.2)\n",
      "Requirement already satisfied: pytz>=2020.1 in c:\\users\\billy ke\\anaconda3\\lib\\site-packages (from pandas>=1.4.0->summarytools) (2022.7)\n",
      "Requirement already satisfied: tzdata>=2022.1 in c:\\users\\billy ke\\anaconda3\\lib\\site-packages (from pandas>=1.4.0->summarytools) (2023.3)\n",
      "Requirement already satisfied: parso<0.9.0,>=0.8.0 in c:\\users\\billy ke\\anaconda3\\lib\\site-packages (from jedi>=0.16->ipython>=7.20.0->summarytools) (0.8.3)\n",
      "Requirement already satisfied: wcwidth in c:\\users\\billy ke\\anaconda3\\lib\\site-packages (from prompt-toolkit!=3.0.37,<3.1.0,>=3.0.30->ipython>=7.20.0->summarytools) (0.2.5)\n",
      "Requirement already satisfied: six>=1.5 in c:\\users\\billy ke\\anaconda3\\lib\\site-packages (from python-dateutil>=2.7->matplotlib>=3.3.0->summarytools) (1.16.0)\n",
      "Requirement already satisfied: executing in c:\\users\\billy ke\\anaconda3\\lib\\site-packages (from stack-data->ipython>=7.20.0->summarytools) (0.8.3)\n",
      "Requirement already satisfied: asttokens in c:\\users\\billy ke\\anaconda3\\lib\\site-packages (from stack-data->ipython>=7.20.0->summarytools) (2.0.5)\n",
      "Requirement already satisfied: pure-eval in c:\\users\\billy ke\\anaconda3\\lib\\site-packages (from stack-data->ipython>=7.20.0->summarytools) (0.2.2)\n"
     ]
    }
   ],
   "source": [
    "!pip install summarytools\n",
    "from summarytools import dfSummary"
   ]
  },
  {
   "cell_type": "code",
   "execution_count": 76,
   "id": "07760078",
   "metadata": {},
   "outputs": [
    {
     "ename": "AttributeError",
     "evalue": "'DataFrame' object has no attribute 'map'",
     "output_type": "error",
     "traceback": [
      "\u001b[1;31m---------------------------------------------------------------------------\u001b[0m",
      "\u001b[1;31mAttributeError\u001b[0m                            Traceback (most recent call last)",
      "File \u001b[1;32m~\\anaconda3\\Lib\\site-packages\\IPython\\core\\formatters.py:344\u001b[0m, in \u001b[0;36mBaseFormatter.__call__\u001b[1;34m(self, obj)\u001b[0m\n\u001b[0;32m    342\u001b[0m     method \u001b[38;5;241m=\u001b[39m get_real_method(obj, \u001b[38;5;28mself\u001b[39m\u001b[38;5;241m.\u001b[39mprint_method)\n\u001b[0;32m    343\u001b[0m     \u001b[38;5;28;01mif\u001b[39;00m method \u001b[38;5;129;01mis\u001b[39;00m \u001b[38;5;129;01mnot\u001b[39;00m \u001b[38;5;28;01mNone\u001b[39;00m:\n\u001b[1;32m--> 344\u001b[0m         \u001b[38;5;28;01mreturn\u001b[39;00m method()\n\u001b[0;32m    345\u001b[0m     \u001b[38;5;28;01mreturn\u001b[39;00m \u001b[38;5;28;01mNone\u001b[39;00m\n\u001b[0;32m    346\u001b[0m \u001b[38;5;28;01melse\u001b[39;00m:\n",
      "File \u001b[1;32m~\\anaconda3\\Lib\\site-packages\\pandas\\io\\formats\\style.py:408\u001b[0m, in \u001b[0;36mStyler._repr_html_\u001b[1;34m(self)\u001b[0m\n\u001b[0;32m    403\u001b[0m \u001b[38;5;250m\u001b[39m\u001b[38;5;124;03m\"\"\"\u001b[39;00m\n\u001b[0;32m    404\u001b[0m \u001b[38;5;124;03mHooks into Jupyter notebook rich display system, which calls _repr_html_ by\u001b[39;00m\n\u001b[0;32m    405\u001b[0m \u001b[38;5;124;03mdefault if an object is returned at the end of a cell.\u001b[39;00m\n\u001b[0;32m    406\u001b[0m \u001b[38;5;124;03m\"\"\"\u001b[39;00m\n\u001b[0;32m    407\u001b[0m \u001b[38;5;28;01mif\u001b[39;00m get_option(\u001b[38;5;124m\"\u001b[39m\u001b[38;5;124mstyler.render.repr\u001b[39m\u001b[38;5;124m\"\u001b[39m) \u001b[38;5;241m==\u001b[39m \u001b[38;5;124m\"\u001b[39m\u001b[38;5;124mhtml\u001b[39m\u001b[38;5;124m\"\u001b[39m:\n\u001b[1;32m--> 408\u001b[0m     \u001b[38;5;28;01mreturn\u001b[39;00m \u001b[38;5;28mself\u001b[39m\u001b[38;5;241m.\u001b[39mto_html()\n\u001b[0;32m    409\u001b[0m \u001b[38;5;28;01mreturn\u001b[39;00m \u001b[38;5;28;01mNone\u001b[39;00m\n",
      "File \u001b[1;32m~\\anaconda3\\Lib\\site-packages\\pandas\\io\\formats\\style.py:1348\u001b[0m, in \u001b[0;36mStyler.to_html\u001b[1;34m(self, buf, table_uuid, table_attributes, sparse_index, sparse_columns, bold_headers, caption, max_rows, max_columns, encoding, doctype_html, exclude_styles, **kwargs)\u001b[0m\n\u001b[0;32m   1345\u001b[0m     obj\u001b[38;5;241m.\u001b[39mset_caption(caption)\n\u001b[0;32m   1347\u001b[0m \u001b[38;5;66;03m# Build HTML string..\u001b[39;00m\n\u001b[1;32m-> 1348\u001b[0m html \u001b[38;5;241m=\u001b[39m obj\u001b[38;5;241m.\u001b[39m_render_html(\n\u001b[0;32m   1349\u001b[0m     sparse_index\u001b[38;5;241m=\u001b[39msparse_index,\n\u001b[0;32m   1350\u001b[0m     sparse_columns\u001b[38;5;241m=\u001b[39msparse_columns,\n\u001b[0;32m   1351\u001b[0m     max_rows\u001b[38;5;241m=\u001b[39mmax_rows,\n\u001b[0;32m   1352\u001b[0m     max_cols\u001b[38;5;241m=\u001b[39mmax_columns,\n\u001b[0;32m   1353\u001b[0m     exclude_styles\u001b[38;5;241m=\u001b[39mexclude_styles,\n\u001b[0;32m   1354\u001b[0m     encoding\u001b[38;5;241m=\u001b[39mencoding \u001b[38;5;129;01mor\u001b[39;00m get_option(\u001b[38;5;124m\"\u001b[39m\u001b[38;5;124mstyler.render.encoding\u001b[39m\u001b[38;5;124m\"\u001b[39m),\n\u001b[0;32m   1355\u001b[0m     doctype_html\u001b[38;5;241m=\u001b[39mdoctype_html,\n\u001b[0;32m   1356\u001b[0m     \u001b[38;5;241m*\u001b[39m\u001b[38;5;241m*\u001b[39mkwargs,\n\u001b[0;32m   1357\u001b[0m )\n\u001b[0;32m   1359\u001b[0m \u001b[38;5;28;01mreturn\u001b[39;00m save_to_buffer(\n\u001b[0;32m   1360\u001b[0m     html, buf\u001b[38;5;241m=\u001b[39mbuf, encoding\u001b[38;5;241m=\u001b[39m(encoding \u001b[38;5;28;01mif\u001b[39;00m buf \u001b[38;5;129;01mis\u001b[39;00m \u001b[38;5;129;01mnot\u001b[39;00m \u001b[38;5;28;01mNone\u001b[39;00m \u001b[38;5;28;01melse\u001b[39;00m \u001b[38;5;28;01mNone\u001b[39;00m)\n\u001b[0;32m   1361\u001b[0m )\n",
      "File \u001b[1;32m~\\anaconda3\\Lib\\site-packages\\pandas\\io\\formats\\style_render.py:204\u001b[0m, in \u001b[0;36mStylerRenderer._render_html\u001b[1;34m(self, sparse_index, sparse_columns, max_rows, max_cols, **kwargs)\u001b[0m\n\u001b[0;32m    192\u001b[0m \u001b[38;5;28;01mdef\u001b[39;00m \u001b[38;5;21m_render_html\u001b[39m(\n\u001b[0;32m    193\u001b[0m     \u001b[38;5;28mself\u001b[39m,\n\u001b[0;32m    194\u001b[0m     sparse_index: \u001b[38;5;28mbool\u001b[39m,\n\u001b[1;32m   (...)\u001b[0m\n\u001b[0;32m    198\u001b[0m     \u001b[38;5;241m*\u001b[39m\u001b[38;5;241m*\u001b[39mkwargs,\n\u001b[0;32m    199\u001b[0m ) \u001b[38;5;241m-\u001b[39m\u001b[38;5;241m>\u001b[39m \u001b[38;5;28mstr\u001b[39m:\n\u001b[0;32m    200\u001b[0m \u001b[38;5;250m    \u001b[39m\u001b[38;5;124;03m\"\"\"\u001b[39;00m\n\u001b[0;32m    201\u001b[0m \u001b[38;5;124;03m    Renders the ``Styler`` including all applied styles to HTML.\u001b[39;00m\n\u001b[0;32m    202\u001b[0m \u001b[38;5;124;03m    Generates a dict with necessary kwargs passed to jinja2 template.\u001b[39;00m\n\u001b[0;32m    203\u001b[0m \u001b[38;5;124;03m    \"\"\"\u001b[39;00m\n\u001b[1;32m--> 204\u001b[0m     d \u001b[38;5;241m=\u001b[39m \u001b[38;5;28mself\u001b[39m\u001b[38;5;241m.\u001b[39m_render(sparse_index, sparse_columns, max_rows, max_cols, \u001b[38;5;124m\"\u001b[39m\u001b[38;5;124m&nbsp;\u001b[39m\u001b[38;5;124m\"\u001b[39m)\n\u001b[0;32m    205\u001b[0m     d\u001b[38;5;241m.\u001b[39mupdate(kwargs)\n\u001b[0;32m    206\u001b[0m     \u001b[38;5;28;01mreturn\u001b[39;00m \u001b[38;5;28mself\u001b[39m\u001b[38;5;241m.\u001b[39mtemplate_html\u001b[38;5;241m.\u001b[39mrender(\n\u001b[0;32m    207\u001b[0m         \u001b[38;5;241m*\u001b[39m\u001b[38;5;241m*\u001b[39md,\n\u001b[0;32m    208\u001b[0m         html_table_tpl\u001b[38;5;241m=\u001b[39m\u001b[38;5;28mself\u001b[39m\u001b[38;5;241m.\u001b[39mtemplate_html_table,\n\u001b[0;32m    209\u001b[0m         html_style_tpl\u001b[38;5;241m=\u001b[39m\u001b[38;5;28mself\u001b[39m\u001b[38;5;241m.\u001b[39mtemplate_html_style,\n\u001b[0;32m    210\u001b[0m     )\n",
      "File \u001b[1;32m~\\anaconda3\\Lib\\site-packages\\pandas\\io\\formats\\style_render.py:161\u001b[0m, in \u001b[0;36mStylerRenderer._render\u001b[1;34m(self, sparse_index, sparse_columns, max_rows, max_cols, blank)\u001b[0m\n\u001b[0;32m    147\u001b[0m \u001b[38;5;28;01mdef\u001b[39;00m \u001b[38;5;21m_render\u001b[39m(\n\u001b[0;32m    148\u001b[0m     \u001b[38;5;28mself\u001b[39m,\n\u001b[0;32m    149\u001b[0m     sparse_index: \u001b[38;5;28mbool\u001b[39m,\n\u001b[1;32m   (...)\u001b[0m\n\u001b[0;32m    153\u001b[0m     blank: \u001b[38;5;28mstr\u001b[39m \u001b[38;5;241m=\u001b[39m \u001b[38;5;124m\"\u001b[39m\u001b[38;5;124m\"\u001b[39m,\n\u001b[0;32m    154\u001b[0m ):\n\u001b[0;32m    155\u001b[0m \u001b[38;5;250m    \u001b[39m\u001b[38;5;124;03m\"\"\"\u001b[39;00m\n\u001b[0;32m    156\u001b[0m \u001b[38;5;124;03m    Computes and applies styles and then generates the general render dicts.\u001b[39;00m\n\u001b[0;32m    157\u001b[0m \n\u001b[0;32m    158\u001b[0m \u001b[38;5;124;03m    Also extends the `ctx` and `ctx_index` attributes with those of concatenated\u001b[39;00m\n\u001b[0;32m    159\u001b[0m \u001b[38;5;124;03m    stylers for use within `_translate_latex`\u001b[39;00m\n\u001b[0;32m    160\u001b[0m \u001b[38;5;124;03m    \"\"\"\u001b[39;00m\n\u001b[1;32m--> 161\u001b[0m     \u001b[38;5;28mself\u001b[39m\u001b[38;5;241m.\u001b[39m_compute()\n\u001b[0;32m    162\u001b[0m     dxs \u001b[38;5;241m=\u001b[39m []\n\u001b[0;32m    163\u001b[0m     ctx_len \u001b[38;5;241m=\u001b[39m \u001b[38;5;28mlen\u001b[39m(\u001b[38;5;28mself\u001b[39m\u001b[38;5;241m.\u001b[39mindex)\n",
      "File \u001b[1;32m~\\anaconda3\\Lib\\site-packages\\pandas\\io\\formats\\style_render.py:256\u001b[0m, in \u001b[0;36mStylerRenderer._compute\u001b[1;34m(self)\u001b[0m\n\u001b[0;32m    254\u001b[0m r \u001b[38;5;241m=\u001b[39m \u001b[38;5;28mself\u001b[39m\n\u001b[0;32m    255\u001b[0m \u001b[38;5;28;01mfor\u001b[39;00m func, args, kwargs \u001b[38;5;129;01min\u001b[39;00m \u001b[38;5;28mself\u001b[39m\u001b[38;5;241m.\u001b[39m_todo:\n\u001b[1;32m--> 256\u001b[0m     r \u001b[38;5;241m=\u001b[39m func(\u001b[38;5;28mself\u001b[39m)(\u001b[38;5;241m*\u001b[39margs, \u001b[38;5;241m*\u001b[39m\u001b[38;5;241m*\u001b[39mkwargs)\n\u001b[0;32m    257\u001b[0m \u001b[38;5;28;01mreturn\u001b[39;00m r\n",
      "File \u001b[1;32m~\\anaconda3\\Lib\\site-packages\\pandas\\io\\formats\\style.py:2030\u001b[0m, in \u001b[0;36mStyler._map\u001b[1;34m(self, func, subset, **kwargs)\u001b[0m\n\u001b[0;32m   2028\u001b[0m     subset \u001b[38;5;241m=\u001b[39m IndexSlice[:]\n\u001b[0;32m   2029\u001b[0m subset \u001b[38;5;241m=\u001b[39m non_reducing_slice(subset)\n\u001b[1;32m-> 2030\u001b[0m result \u001b[38;5;241m=\u001b[39m \u001b[38;5;28mself\u001b[39m\u001b[38;5;241m.\u001b[39mdata\u001b[38;5;241m.\u001b[39mloc[subset]\u001b[38;5;241m.\u001b[39mmap(func)\n\u001b[0;32m   2031\u001b[0m \u001b[38;5;28mself\u001b[39m\u001b[38;5;241m.\u001b[39m_update_ctx(result)\n\u001b[0;32m   2032\u001b[0m \u001b[38;5;28;01mreturn\u001b[39;00m \u001b[38;5;28mself\u001b[39m\n",
      "File \u001b[1;32m~\\anaconda3\\Lib\\site-packages\\pandas\\core\\generic.py:5902\u001b[0m, in \u001b[0;36m__getattr__\u001b[1;34m(self, name)\u001b[0m\n\u001b[0;32m   5887\u001b[0m \u001b[38;5;129m@final\u001b[39m\n\u001b[0;32m   5888\u001b[0m \u001b[38;5;28;01mdef\u001b[39;00m \u001b[38;5;21msample\u001b[39m(\n\u001b[0;32m   5889\u001b[0m     \u001b[38;5;28mself\u001b[39m,\n\u001b[1;32m   (...)\u001b[0m\n\u001b[0;32m   5896\u001b[0m     ignore_index: bool_t \u001b[38;5;241m=\u001b[39m \u001b[38;5;28;01mFalse\u001b[39;00m,\n\u001b[0;32m   5897\u001b[0m ) \u001b[38;5;241m-\u001b[39m\u001b[38;5;241m>\u001b[39m Self:\n\u001b[0;32m   5898\u001b[0m \u001b[38;5;250m    \u001b[39m\u001b[38;5;124;03m\"\"\"\u001b[39;00m\n\u001b[0;32m   5899\u001b[0m \u001b[38;5;124;03m    Return a random sample of items from an axis of object.\u001b[39;00m\n\u001b[0;32m   5900\u001b[0m \n\u001b[0;32m   5901\u001b[0m \u001b[38;5;124;03m    You can use `random_state` for reproducibility.\u001b[39;00m\n\u001b[1;32m-> 5902\u001b[0m \n\u001b[0;32m   5903\u001b[0m \u001b[38;5;124;03m    Parameters\u001b[39;00m\n\u001b[0;32m   5904\u001b[0m \u001b[38;5;124;03m    ----------\u001b[39;00m\n\u001b[0;32m   5905\u001b[0m \u001b[38;5;124;03m    n : int, optional\u001b[39;00m\n\u001b[0;32m   5906\u001b[0m \u001b[38;5;124;03m        Number of items from axis to return. Cannot be used with `frac`.\u001b[39;00m\n\u001b[0;32m   5907\u001b[0m \u001b[38;5;124;03m        Default = 1 if `frac` = None.\u001b[39;00m\n\u001b[0;32m   5908\u001b[0m \u001b[38;5;124;03m    frac : float, optional\u001b[39;00m\n\u001b[0;32m   5909\u001b[0m \u001b[38;5;124;03m        Fraction of axis items to return. Cannot be used with `n`.\u001b[39;00m\n\u001b[0;32m   5910\u001b[0m \u001b[38;5;124;03m    replace : bool, default False\u001b[39;00m\n\u001b[0;32m   5911\u001b[0m \u001b[38;5;124;03m        Allow or disallow sampling of the same row more than once.\u001b[39;00m\n\u001b[0;32m   5912\u001b[0m \u001b[38;5;124;03m    weights : str or ndarray-like, optional\u001b[39;00m\n\u001b[0;32m   5913\u001b[0m \u001b[38;5;124;03m        Default 'None' results in equal probability weighting.\u001b[39;00m\n\u001b[0;32m   5914\u001b[0m \u001b[38;5;124;03m        If passed a Series, will align with target object on index. Index\u001b[39;00m\n\u001b[0;32m   5915\u001b[0m \u001b[38;5;124;03m        values in weights not found in sampled object will be ignored and\u001b[39;00m\n\u001b[0;32m   5916\u001b[0m \u001b[38;5;124;03m        index values in sampled object not in weights will be assigned\u001b[39;00m\n\u001b[0;32m   5917\u001b[0m \u001b[38;5;124;03m        weights of zero.\u001b[39;00m\n\u001b[0;32m   5918\u001b[0m \u001b[38;5;124;03m        If called on a DataFrame, will accept the name of a column\u001b[39;00m\n\u001b[0;32m   5919\u001b[0m \u001b[38;5;124;03m        when axis = 0.\u001b[39;00m\n\u001b[0;32m   5920\u001b[0m \u001b[38;5;124;03m        Unless weights are a Series, weights must be same length as axis\u001b[39;00m\n\u001b[0;32m   5921\u001b[0m \u001b[38;5;124;03m        being sampled.\u001b[39;00m\n\u001b[0;32m   5922\u001b[0m \u001b[38;5;124;03m        If weights do not sum to 1, they will be normalized to sum to 1.\u001b[39;00m\n\u001b[0;32m   5923\u001b[0m \u001b[38;5;124;03m        Missing values in the weights column will be treated as zero.\u001b[39;00m\n\u001b[0;32m   5924\u001b[0m \u001b[38;5;124;03m        Infinite values not allowed.\u001b[39;00m\n\u001b[0;32m   5925\u001b[0m \u001b[38;5;124;03m    random_state : int, array-like, BitGenerator, np.random.RandomState, np.random.Generator, optional\u001b[39;00m\n\u001b[0;32m   5926\u001b[0m \u001b[38;5;124;03m        If int, array-like, or BitGenerator, seed for random number generator.\u001b[39;00m\n\u001b[0;32m   5927\u001b[0m \u001b[38;5;124;03m        If np.random.RandomState or np.random.Generator, use as given.\u001b[39;00m\n\u001b[0;32m   5928\u001b[0m \n\u001b[0;32m   5929\u001b[0m \u001b[38;5;124;03m        .. versionchanged:: 1.4.0\u001b[39;00m\n\u001b[0;32m   5930\u001b[0m \n\u001b[0;32m   5931\u001b[0m \u001b[38;5;124;03m            np.random.Generator objects now accepted\u001b[39;00m\n\u001b[0;32m   5932\u001b[0m \n\u001b[0;32m   5933\u001b[0m \u001b[38;5;124;03m    axis : {0 or 'index', 1 or 'columns', None}, default None\u001b[39;00m\n\u001b[0;32m   5934\u001b[0m \u001b[38;5;124;03m        Axis to sample. Accepts axis number or name. Default is stat axis\u001b[39;00m\n\u001b[0;32m   5935\u001b[0m \u001b[38;5;124;03m        for given data type. For `Series` this parameter is unused and defaults to `None`.\u001b[39;00m\n\u001b[0;32m   5936\u001b[0m \u001b[38;5;124;03m    ignore_index : bool, default False\u001b[39;00m\n\u001b[0;32m   5937\u001b[0m \u001b[38;5;124;03m        If True, the resulting index will be labeled 0, 1, …, n - 1.\u001b[39;00m\n\u001b[0;32m   5938\u001b[0m \n\u001b[0;32m   5939\u001b[0m \u001b[38;5;124;03m        .. versionadded:: 1.3.0\u001b[39;00m\n\u001b[0;32m   5940\u001b[0m \n\u001b[0;32m   5941\u001b[0m \u001b[38;5;124;03m    Returns\u001b[39;00m\n\u001b[0;32m   5942\u001b[0m \u001b[38;5;124;03m    -------\u001b[39;00m\n\u001b[0;32m   5943\u001b[0m \u001b[38;5;124;03m    Series or DataFrame\u001b[39;00m\n\u001b[0;32m   5944\u001b[0m \u001b[38;5;124;03m        A new object of same type as caller containing `n` items randomly\u001b[39;00m\n\u001b[0;32m   5945\u001b[0m \u001b[38;5;124;03m        sampled from the caller object.\u001b[39;00m\n\u001b[0;32m   5946\u001b[0m \n\u001b[0;32m   5947\u001b[0m \u001b[38;5;124;03m    See Also\u001b[39;00m\n\u001b[0;32m   5948\u001b[0m \u001b[38;5;124;03m    --------\u001b[39;00m\n\u001b[0;32m   5949\u001b[0m \u001b[38;5;124;03m    DataFrameGroupBy.sample: Generates random samples from each group of a\u001b[39;00m\n\u001b[0;32m   5950\u001b[0m \u001b[38;5;124;03m        DataFrame object.\u001b[39;00m\n\u001b[0;32m   5951\u001b[0m \u001b[38;5;124;03m    SeriesGroupBy.sample: Generates random samples from each group of a\u001b[39;00m\n\u001b[0;32m   5952\u001b[0m \u001b[38;5;124;03m        Series object.\u001b[39;00m\n\u001b[0;32m   5953\u001b[0m \u001b[38;5;124;03m    numpy.random.choice: Generates a random sample from a given 1-D numpy\u001b[39;00m\n\u001b[0;32m   5954\u001b[0m \u001b[38;5;124;03m        array.\u001b[39;00m\n\u001b[0;32m   5955\u001b[0m \n\u001b[0;32m   5956\u001b[0m \u001b[38;5;124;03m    Notes\u001b[39;00m\n\u001b[0;32m   5957\u001b[0m \u001b[38;5;124;03m    -----\u001b[39;00m\n\u001b[0;32m   5958\u001b[0m \u001b[38;5;124;03m    If `frac` > 1, `replacement` should be set to `True`.\u001b[39;00m\n\u001b[0;32m   5959\u001b[0m \n\u001b[0;32m   5960\u001b[0m \u001b[38;5;124;03m    Examples\u001b[39;00m\n\u001b[0;32m   5961\u001b[0m \u001b[38;5;124;03m    --------\u001b[39;00m\n\u001b[0;32m   5962\u001b[0m \u001b[38;5;124;03m    >>> df = pd.DataFrame({'num_legs': [2, 4, 8, 0],\u001b[39;00m\n\u001b[0;32m   5963\u001b[0m \u001b[38;5;124;03m    ...                    'num_wings': [2, 0, 0, 0],\u001b[39;00m\n\u001b[0;32m   5964\u001b[0m \u001b[38;5;124;03m    ...                    'num_specimen_seen': [10, 2, 1, 8]},\u001b[39;00m\n\u001b[0;32m   5965\u001b[0m \u001b[38;5;124;03m    ...                   index=['falcon', 'dog', 'spider', 'fish'])\u001b[39;00m\n\u001b[0;32m   5966\u001b[0m \u001b[38;5;124;03m    >>> df\u001b[39;00m\n\u001b[0;32m   5967\u001b[0m \u001b[38;5;124;03m            num_legs  num_wings  num_specimen_seen\u001b[39;00m\n\u001b[0;32m   5968\u001b[0m \u001b[38;5;124;03m    falcon         2          2                 10\u001b[39;00m\n\u001b[0;32m   5969\u001b[0m \u001b[38;5;124;03m    dog            4          0                  2\u001b[39;00m\n\u001b[0;32m   5970\u001b[0m \u001b[38;5;124;03m    spider         8          0                  1\u001b[39;00m\n\u001b[0;32m   5971\u001b[0m \u001b[38;5;124;03m    fish           0          0                  8\u001b[39;00m\n\u001b[0;32m   5972\u001b[0m \n\u001b[0;32m   5973\u001b[0m \u001b[38;5;124;03m    Extract 3 random elements from the ``Series`` ``df['num_legs']``:\u001b[39;00m\n\u001b[0;32m   5974\u001b[0m \u001b[38;5;124;03m    Note that we use `random_state` to ensure the reproducibility of\u001b[39;00m\n\u001b[0;32m   5975\u001b[0m \u001b[38;5;124;03m    the examples.\u001b[39;00m\n\u001b[0;32m   5976\u001b[0m \n\u001b[0;32m   5977\u001b[0m \u001b[38;5;124;03m    >>> df['num_legs'].sample(n=3, random_state=1)\u001b[39;00m\n\u001b[0;32m   5978\u001b[0m \u001b[38;5;124;03m    fish      0\u001b[39;00m\n\u001b[0;32m   5979\u001b[0m \u001b[38;5;124;03m    spider    8\u001b[39;00m\n\u001b[0;32m   5980\u001b[0m \u001b[38;5;124;03m    falcon    2\u001b[39;00m\n\u001b[0;32m   5981\u001b[0m \u001b[38;5;124;03m    Name: num_legs, dtype: int64\u001b[39;00m\n\u001b[0;32m   5982\u001b[0m \n\u001b[0;32m   5983\u001b[0m \u001b[38;5;124;03m    A random 50% sample of the ``DataFrame`` with replacement:\u001b[39;00m\n\u001b[0;32m   5984\u001b[0m \n\u001b[0;32m   5985\u001b[0m \u001b[38;5;124;03m    >>> df.sample(frac=0.5, replace=True, random_state=1)\u001b[39;00m\n\u001b[0;32m   5986\u001b[0m \u001b[38;5;124;03m          num_legs  num_wings  num_specimen_seen\u001b[39;00m\n\u001b[0;32m   5987\u001b[0m \u001b[38;5;124;03m    dog          4          0                  2\u001b[39;00m\n\u001b[0;32m   5988\u001b[0m \u001b[38;5;124;03m    fish         0          0                  8\u001b[39;00m\n\u001b[0;32m   5989\u001b[0m \n\u001b[0;32m   5990\u001b[0m \u001b[38;5;124;03m    An upsample sample of the ``DataFrame`` with replacement:\u001b[39;00m\n\u001b[0;32m   5991\u001b[0m \u001b[38;5;124;03m    Note that `replace` parameter has to be `True` for `frac` parameter > 1.\u001b[39;00m\n\u001b[0;32m   5992\u001b[0m \n\u001b[0;32m   5993\u001b[0m \u001b[38;5;124;03m    >>> df.sample(frac=2, replace=True, random_state=1)\u001b[39;00m\n\u001b[0;32m   5994\u001b[0m \u001b[38;5;124;03m            num_legs  num_wings  num_specimen_seen\u001b[39;00m\n\u001b[0;32m   5995\u001b[0m \u001b[38;5;124;03m    dog            4          0                  2\u001b[39;00m\n\u001b[0;32m   5996\u001b[0m \u001b[38;5;124;03m    fish           0          0                  8\u001b[39;00m\n\u001b[0;32m   5997\u001b[0m \u001b[38;5;124;03m    falcon         2          2                 10\u001b[39;00m\n\u001b[0;32m   5998\u001b[0m \u001b[38;5;124;03m    falcon         2          2                 10\u001b[39;00m\n\u001b[0;32m   5999\u001b[0m \u001b[38;5;124;03m    fish           0          0                  8\u001b[39;00m\n\u001b[0;32m   6000\u001b[0m \u001b[38;5;124;03m    dog            4          0                  2\u001b[39;00m\n\u001b[0;32m   6001\u001b[0m \u001b[38;5;124;03m    fish           0          0                  8\u001b[39;00m\n\u001b[0;32m   6002\u001b[0m \u001b[38;5;124;03m    dog            4          0                  2\u001b[39;00m\n\u001b[0;32m   6003\u001b[0m \n\u001b[0;32m   6004\u001b[0m \u001b[38;5;124;03m    Using a DataFrame column as weights. Rows with larger value in the\u001b[39;00m\n\u001b[0;32m   6005\u001b[0m \u001b[38;5;124;03m    `num_specimen_seen` column are more likely to be sampled.\u001b[39;00m\n\u001b[0;32m   6006\u001b[0m \n\u001b[0;32m   6007\u001b[0m \u001b[38;5;124;03m    >>> df.sample(n=2, weights='num_specimen_seen', random_state=1)\u001b[39;00m\n\u001b[0;32m   6008\u001b[0m \u001b[38;5;124;03m            num_legs  num_wings  num_specimen_seen\u001b[39;00m\n\u001b[0;32m   6009\u001b[0m \u001b[38;5;124;03m    falcon         2          2                 10\u001b[39;00m\n\u001b[0;32m   6010\u001b[0m \u001b[38;5;124;03m    fish           0          0                  8\u001b[39;00m\n\u001b[0;32m   6011\u001b[0m \u001b[38;5;124;03m    \"\"\"\u001b[39;00m  \u001b[38;5;66;03m# noqa: E501\u001b[39;00m\n\u001b[0;32m   6012\u001b[0m     \u001b[38;5;28;01mif\u001b[39;00m axis \u001b[38;5;129;01mis\u001b[39;00m \u001b[38;5;28;01mNone\u001b[39;00m:\n\u001b[0;32m   6013\u001b[0m         axis \u001b[38;5;241m=\u001b[39m \u001b[38;5;241m0\u001b[39m\n",
      "\u001b[1;31mAttributeError\u001b[0m: 'DataFrame' object has no attribute 'map'"
     ]
    },
    {
     "data": {
      "text/plain": [
       "<pandas.io.formats.style.Styler at 0x1bd587e1cd0>"
      ]
     },
     "execution_count": 76,
     "metadata": {},
     "output_type": "execute_result"
    }
   ],
   "source": [
    " dfSummary(df)"
   ]
  },
  {
   "cell_type": "code",
   "execution_count": 75,
   "id": "f397aed2",
   "metadata": {},
   "outputs": [
    {
     "name": "stderr",
     "output_type": "stream",
     "text": [
      "ERROR: pip's dependency resolver does not currently take into account all the packages that are installed. This behaviour is the source of the following dependency conflicts.\n",
      "skimpy 0.0.11 requires pandas<3.0.0,>=2.0.3, but you have pandas 1.5.3 which is incompatible.\n"
     ]
    },
    {
     "name": "stdout",
     "output_type": "stream",
     "text": [
      "Requirement already satisfied: bamboolib in c:\\users\\billy ke\\anaconda3\\lib\\site-packages (1.30.19)\n",
      "Requirement already satisfied: attrs>=20.3.0 in c:\\users\\billy ke\\anaconda3\\lib\\site-packages (from bamboolib) (22.1.0)\n",
      "Requirement already satisfied: cryptography>=2.6.1 in c:\\users\\billy ke\\anaconda3\\lib\\site-packages (from bamboolib) (41.0.2)\n",
      "Requirement already satisfied: ipywidgets<8.0.0,>=7.6.0 in c:\\users\\billy ke\\anaconda3\\lib\\site-packages (from bamboolib) (7.8.1)\n",
      "Requirement already satisfied: jedi<1.0.0 in c:\\users\\billy ke\\anaconda3\\lib\\site-packages (from bamboolib) (0.18.1)\n",
      "Collecting pandas<2.0.0,>=1.1.0 (from bamboolib)\n",
      "  Using cached pandas-1.5.3-cp311-cp311-win_amd64.whl (10.3 MB)\n",
      "Requirement already satisfied: packaging>=19.2 in c:\\users\\billy ke\\anaconda3\\lib\\site-packages (from bamboolib) (23.0)\n",
      "Requirement already satisfied: plotly<6.0.0,>=4.9.0 in c:\\users\\billy ke\\anaconda3\\lib\\site-packages (from bamboolib) (5.9.0)\n",
      "Requirement already satisfied: ppscore<2.0.0,>=1.2.0 in c:\\users\\billy ke\\anaconda3\\lib\\site-packages (from bamboolib) (1.3.0)\n",
      "Requirement already satisfied: psutil<6,>=5.4.2 in c:\\users\\billy ke\\anaconda3\\lib\\site-packages (from bamboolib) (5.9.0)\n",
      "Requirement already satisfied: pygments in c:\\users\\billy ke\\anaconda3\\lib\\site-packages (from bamboolib) (2.15.1)\n",
      "Requirement already satisfied: ipyslickgrid==0.0.3 in c:\\users\\billy ke\\anaconda3\\lib\\site-packages (from bamboolib) (0.0.3)\n",
      "Requirement already satisfied: scikit-learn<2.0.0,>=0.20.2 in c:\\users\\billy ke\\anaconda3\\lib\\site-packages (from bamboolib) (1.3.0)\n",
      "Requirement already satisfied: statsmodels<1.0.0 in c:\\users\\billy ke\\anaconda3\\lib\\site-packages (from bamboolib) (0.14.0)\n",
      "Requirement already satisfied: toml>=0.10.0 in c:\\users\\billy ke\\anaconda3\\lib\\site-packages (from bamboolib) (0.10.2)\n",
      "Requirement already satisfied: xlrd>=1.0.0 in c:\\users\\billy ke\\anaconda3\\lib\\site-packages (from bamboolib) (2.0.1)\n",
      "Requirement already satisfied: notebook>=4.0.0 in c:\\users\\billy ke\\anaconda3\\lib\\site-packages (from ipyslickgrid==0.0.3->bamboolib) (6.5.4)\n",
      "Requirement already satisfied: cffi>=1.12 in c:\\users\\billy ke\\anaconda3\\lib\\site-packages (from cryptography>=2.6.1->bamboolib) (1.15.1)\n",
      "Requirement already satisfied: comm>=0.1.3 in c:\\users\\billy ke\\anaconda3\\lib\\site-packages (from ipywidgets<8.0.0,>=7.6.0->bamboolib) (0.1.4)\n",
      "Requirement already satisfied: ipython-genutils~=0.2.0 in c:\\users\\billy ke\\anaconda3\\lib\\site-packages (from ipywidgets<8.0.0,>=7.6.0->bamboolib) (0.2.0)\n",
      "Requirement already satisfied: traitlets>=4.3.1 in c:\\users\\billy ke\\anaconda3\\lib\\site-packages (from ipywidgets<8.0.0,>=7.6.0->bamboolib) (5.7.1)\n",
      "Requirement already satisfied: widgetsnbextension~=3.6.6 in c:\\users\\billy ke\\anaconda3\\lib\\site-packages (from ipywidgets<8.0.0,>=7.6.0->bamboolib) (3.6.6)\n",
      "Requirement already satisfied: ipython>=4.0.0 in c:\\users\\billy ke\\anaconda3\\lib\\site-packages (from ipywidgets<8.0.0,>=7.6.0->bamboolib) (8.12.0)\n",
      "Requirement already satisfied: jupyterlab-widgets<3,>=1.0.0 in c:\\users\\billy ke\\anaconda3\\lib\\site-packages (from ipywidgets<8.0.0,>=7.6.0->bamboolib) (1.1.7)\n",
      "Requirement already satisfied: parso<0.9.0,>=0.8.0 in c:\\users\\billy ke\\anaconda3\\lib\\site-packages (from jedi<1.0.0->bamboolib) (0.8.3)\n",
      "Requirement already satisfied: python-dateutil>=2.8.1 in c:\\users\\billy ke\\anaconda3\\lib\\site-packages (from pandas<2.0.0,>=1.1.0->bamboolib) (2.8.2)\n",
      "Requirement already satisfied: pytz>=2020.1 in c:\\users\\billy ke\\anaconda3\\lib\\site-packages (from pandas<2.0.0,>=1.1.0->bamboolib) (2022.7)\n",
      "Requirement already satisfied: numpy>=1.21.0 in c:\\users\\billy ke\\anaconda3\\lib\\site-packages (from pandas<2.0.0,>=1.1.0->bamboolib) (1.24.3)\n",
      "Requirement already satisfied: tenacity>=6.2.0 in c:\\users\\billy ke\\anaconda3\\lib\\site-packages (from plotly<6.0.0,>=4.9.0->bamboolib) (8.2.2)\n",
      "Requirement already satisfied: scipy>=1.5.0 in c:\\users\\billy ke\\anaconda3\\lib\\site-packages (from scikit-learn<2.0.0,>=0.20.2->bamboolib) (1.10.1)\n",
      "Requirement already satisfied: joblib>=1.1.1 in c:\\users\\billy ke\\anaconda3\\lib\\site-packages (from scikit-learn<2.0.0,>=0.20.2->bamboolib) (1.2.0)\n",
      "Requirement already satisfied: threadpoolctl>=2.0.0 in c:\\users\\billy ke\\anaconda3\\lib\\site-packages (from scikit-learn<2.0.0,>=0.20.2->bamboolib) (2.2.0)\n",
      "Requirement already satisfied: patsy>=0.5.2 in c:\\users\\billy ke\\anaconda3\\lib\\site-packages (from statsmodels<1.0.0->bamboolib) (0.5.3)\n",
      "Requirement already satisfied: pycparser in c:\\users\\billy ke\\anaconda3\\lib\\site-packages (from cffi>=1.12->cryptography>=2.6.1->bamboolib) (2.21)\n",
      "Requirement already satisfied: backcall in c:\\users\\billy ke\\anaconda3\\lib\\site-packages (from ipython>=4.0.0->ipywidgets<8.0.0,>=7.6.0->bamboolib) (0.2.0)\n",
      "Requirement already satisfied: decorator in c:\\users\\billy ke\\anaconda3\\lib\\site-packages (from ipython>=4.0.0->ipywidgets<8.0.0,>=7.6.0->bamboolib) (5.1.1)\n",
      "Requirement already satisfied: matplotlib-inline in c:\\users\\billy ke\\anaconda3\\lib\\site-packages (from ipython>=4.0.0->ipywidgets<8.0.0,>=7.6.0->bamboolib) (0.1.6)\n",
      "Requirement already satisfied: pickleshare in c:\\users\\billy ke\\anaconda3\\lib\\site-packages (from ipython>=4.0.0->ipywidgets<8.0.0,>=7.6.0->bamboolib) (0.7.5)\n",
      "Requirement already satisfied: prompt-toolkit!=3.0.37,<3.1.0,>=3.0.30 in c:\\users\\billy ke\\anaconda3\\lib\\site-packages (from ipython>=4.0.0->ipywidgets<8.0.0,>=7.6.0->bamboolib) (3.0.36)\n",
      "Requirement already satisfied: stack-data in c:\\users\\billy ke\\anaconda3\\lib\\site-packages (from ipython>=4.0.0->ipywidgets<8.0.0,>=7.6.0->bamboolib) (0.2.0)\n",
      "Requirement already satisfied: colorama in c:\\users\\billy ke\\anaconda3\\lib\\site-packages (from ipython>=4.0.0->ipywidgets<8.0.0,>=7.6.0->bamboolib) (0.4.6)\n",
      "Requirement already satisfied: jinja2 in c:\\users\\billy ke\\anaconda3\\lib\\site-packages (from notebook>=4.0.0->ipyslickgrid==0.0.3->bamboolib) (3.1.2)\n",
      "Requirement already satisfied: tornado>=6.1 in c:\\users\\billy ke\\anaconda3\\lib\\site-packages (from notebook>=4.0.0->ipyslickgrid==0.0.3->bamboolib) (6.3.2)\n",
      "Requirement already satisfied: pyzmq>=17 in c:\\users\\billy ke\\anaconda3\\lib\\site-packages (from notebook>=4.0.0->ipyslickgrid==0.0.3->bamboolib) (23.2.0)\n",
      "Requirement already satisfied: argon2-cffi in c:\\users\\billy ke\\anaconda3\\lib\\site-packages (from notebook>=4.0.0->ipyslickgrid==0.0.3->bamboolib) (21.3.0)\n",
      "Requirement already satisfied: jupyter-core>=4.6.1 in c:\\users\\billy ke\\anaconda3\\lib\\site-packages (from notebook>=4.0.0->ipyslickgrid==0.0.3->bamboolib) (5.3.0)\n",
      "Requirement already satisfied: jupyter-client>=5.3.4 in c:\\users\\billy ke\\anaconda3\\lib\\site-packages (from notebook>=4.0.0->ipyslickgrid==0.0.3->bamboolib) (7.4.9)\n",
      "Requirement already satisfied: nbformat in c:\\users\\billy ke\\anaconda3\\lib\\site-packages (from notebook>=4.0.0->ipyslickgrid==0.0.3->bamboolib) (5.7.0)\n",
      "Requirement already satisfied: nbconvert>=5 in c:\\users\\billy ke\\anaconda3\\lib\\site-packages (from notebook>=4.0.0->ipyslickgrid==0.0.3->bamboolib) (6.5.4)\n",
      "Requirement already satisfied: nest-asyncio>=1.5 in c:\\users\\billy ke\\anaconda3\\lib\\site-packages (from notebook>=4.0.0->ipyslickgrid==0.0.3->bamboolib) (1.5.6)\n",
      "Requirement already satisfied: ipykernel in c:\\users\\billy ke\\anaconda3\\lib\\site-packages (from notebook>=4.0.0->ipyslickgrid==0.0.3->bamboolib) (6.19.2)\n",
      "Requirement already satisfied: Send2Trash>=1.8.0 in c:\\users\\billy ke\\anaconda3\\lib\\site-packages (from notebook>=4.0.0->ipyslickgrid==0.0.3->bamboolib) (1.8.0)\n",
      "Requirement already satisfied: terminado>=0.8.3 in c:\\users\\billy ke\\anaconda3\\lib\\site-packages (from notebook>=4.0.0->ipyslickgrid==0.0.3->bamboolib) (0.17.1)\n",
      "Requirement already satisfied: prometheus-client in c:\\users\\billy ke\\anaconda3\\lib\\site-packages (from notebook>=4.0.0->ipyslickgrid==0.0.3->bamboolib) (0.14.1)\n",
      "Requirement already satisfied: nbclassic>=0.4.7 in c:\\users\\billy ke\\anaconda3\\lib\\site-packages (from notebook>=4.0.0->ipyslickgrid==0.0.3->bamboolib) (0.5.5)\n",
      "Requirement already satisfied: six in c:\\users\\billy ke\\anaconda3\\lib\\site-packages (from patsy>=0.5.2->statsmodels<1.0.0->bamboolib) (1.16.0)\n",
      "Requirement already satisfied: entrypoints in c:\\users\\billy ke\\anaconda3\\lib\\site-packages (from jupyter-client>=5.3.4->notebook>=4.0.0->ipyslickgrid==0.0.3->bamboolib) (0.4)\n",
      "Requirement already satisfied: platformdirs>=2.5 in c:\\users\\billy ke\\anaconda3\\lib\\site-packages (from jupyter-core>=4.6.1->notebook>=4.0.0->ipyslickgrid==0.0.3->bamboolib) (2.5.2)\n",
      "Requirement already satisfied: pywin32>=300 in c:\\users\\billy ke\\anaconda3\\lib\\site-packages (from jupyter-core>=4.6.1->notebook>=4.0.0->ipyslickgrid==0.0.3->bamboolib) (305.1)\n",
      "Requirement already satisfied: jupyter-server>=1.8 in c:\\users\\billy ke\\anaconda3\\lib\\site-packages (from nbclassic>=0.4.7->notebook>=4.0.0->ipyslickgrid==0.0.3->bamboolib) (1.23.4)\n",
      "Requirement already satisfied: notebook-shim>=0.1.0 in c:\\users\\billy ke\\anaconda3\\lib\\site-packages (from nbclassic>=0.4.7->notebook>=4.0.0->ipyslickgrid==0.0.3->bamboolib) (0.2.2)\n",
      "Requirement already satisfied: lxml in c:\\users\\billy ke\\anaconda3\\lib\\site-packages (from nbconvert>=5->notebook>=4.0.0->ipyslickgrid==0.0.3->bamboolib) (4.9.2)\n",
      "Requirement already satisfied: beautifulsoup4 in c:\\users\\billy ke\\anaconda3\\lib\\site-packages (from nbconvert>=5->notebook>=4.0.0->ipyslickgrid==0.0.3->bamboolib) (4.12.2)\n",
      "Requirement already satisfied: bleach in c:\\users\\billy ke\\anaconda3\\lib\\site-packages (from nbconvert>=5->notebook>=4.0.0->ipyslickgrid==0.0.3->bamboolib) (4.1.0)\n",
      "Requirement already satisfied: defusedxml in c:\\users\\billy ke\\anaconda3\\lib\\site-packages (from nbconvert>=5->notebook>=4.0.0->ipyslickgrid==0.0.3->bamboolib) (0.7.1)\n",
      "Requirement already satisfied: jupyterlab-pygments in c:\\users\\billy ke\\anaconda3\\lib\\site-packages (from nbconvert>=5->notebook>=4.0.0->ipyslickgrid==0.0.3->bamboolib) (0.1.2)\n",
      "Requirement already satisfied: MarkupSafe>=2.0 in c:\\users\\billy ke\\anaconda3\\lib\\site-packages (from nbconvert>=5->notebook>=4.0.0->ipyslickgrid==0.0.3->bamboolib) (2.1.1)\n",
      "Requirement already satisfied: mistune<2,>=0.8.1 in c:\\users\\billy ke\\anaconda3\\lib\\site-packages (from nbconvert>=5->notebook>=4.0.0->ipyslickgrid==0.0.3->bamboolib) (0.8.4)\n",
      "Requirement already satisfied: nbclient>=0.5.0 in c:\\users\\billy ke\\anaconda3\\lib\\site-packages (from nbconvert>=5->notebook>=4.0.0->ipyslickgrid==0.0.3->bamboolib) (0.5.13)\n",
      "Requirement already satisfied: pandocfilters>=1.4.1 in c:\\users\\billy ke\\anaconda3\\lib\\site-packages (from nbconvert>=5->notebook>=4.0.0->ipyslickgrid==0.0.3->bamboolib) (1.5.0)\n",
      "Requirement already satisfied: tinycss2 in c:\\users\\billy ke\\anaconda3\\lib\\site-packages (from nbconvert>=5->notebook>=4.0.0->ipyslickgrid==0.0.3->bamboolib) (1.2.1)\n",
      "Requirement already satisfied: fastjsonschema in c:\\users\\billy ke\\anaconda3\\lib\\site-packages (from nbformat->notebook>=4.0.0->ipyslickgrid==0.0.3->bamboolib) (2.16.2)\n",
      "Requirement already satisfied: jsonschema>=2.6 in c:\\users\\billy ke\\anaconda3\\lib\\site-packages (from nbformat->notebook>=4.0.0->ipyslickgrid==0.0.3->bamboolib) (4.17.3)\n",
      "Requirement already satisfied: wcwidth in c:\\users\\billy ke\\anaconda3\\lib\\site-packages (from prompt-toolkit!=3.0.37,<3.1.0,>=3.0.30->ipython>=4.0.0->ipywidgets<8.0.0,>=7.6.0->bamboolib) (0.2.5)\n",
      "Requirement already satisfied: pywinpty>=1.1.0 in c:\\users\\billy ke\\anaconda3\\lib\\site-packages (from terminado>=0.8.3->notebook>=4.0.0->ipyslickgrid==0.0.3->bamboolib) (2.0.10)\n",
      "Requirement already satisfied: argon2-cffi-bindings in c:\\users\\billy ke\\anaconda3\\lib\\site-packages (from argon2-cffi->notebook>=4.0.0->ipyslickgrid==0.0.3->bamboolib) (21.2.0)\n",
      "Requirement already satisfied: debugpy>=1.0 in c:\\users\\billy ke\\anaconda3\\lib\\site-packages (from ipykernel->notebook>=4.0.0->ipyslickgrid==0.0.3->bamboolib) (1.6.7)\n",
      "Requirement already satisfied: executing in c:\\users\\billy ke\\anaconda3\\lib\\site-packages (from stack-data->ipython>=4.0.0->ipywidgets<8.0.0,>=7.6.0->bamboolib) (0.8.3)\n",
      "Requirement already satisfied: asttokens in c:\\users\\billy ke\\anaconda3\\lib\\site-packages (from stack-data->ipython>=4.0.0->ipywidgets<8.0.0,>=7.6.0->bamboolib) (2.0.5)\n",
      "Requirement already satisfied: pure-eval in c:\\users\\billy ke\\anaconda3\\lib\\site-packages (from stack-data->ipython>=4.0.0->ipywidgets<8.0.0,>=7.6.0->bamboolib) (0.2.2)\n",
      "Requirement already satisfied: pyrsistent!=0.17.0,!=0.17.1,!=0.17.2,>=0.14.0 in c:\\users\\billy ke\\anaconda3\\lib\\site-packages (from jsonschema>=2.6->nbformat->notebook>=4.0.0->ipyslickgrid==0.0.3->bamboolib) (0.18.0)\n",
      "Requirement already satisfied: anyio<4,>=3.1.0 in c:\\users\\billy ke\\anaconda3\\lib\\site-packages (from jupyter-server>=1.8->nbclassic>=0.4.7->notebook>=4.0.0->ipyslickgrid==0.0.3->bamboolib) (3.5.0)\n",
      "Requirement already satisfied: websocket-client in c:\\users\\billy ke\\anaconda3\\lib\\site-packages (from jupyter-server>=1.8->nbclassic>=0.4.7->notebook>=4.0.0->ipyslickgrid==0.0.3->bamboolib) (0.58.0)\n",
      "Requirement already satisfied: soupsieve>1.2 in c:\\users\\billy ke\\anaconda3\\lib\\site-packages (from beautifulsoup4->nbconvert>=5->notebook>=4.0.0->ipyslickgrid==0.0.3->bamboolib) (2.4)\n",
      "Requirement already satisfied: webencodings in c:\\users\\billy ke\\anaconda3\\lib\\site-packages (from bleach->nbconvert>=5->notebook>=4.0.0->ipyslickgrid==0.0.3->bamboolib) (0.5.1)\n",
      "Requirement already satisfied: idna>=2.8 in c:\\users\\billy ke\\anaconda3\\lib\\site-packages (from anyio<4,>=3.1.0->jupyter-server>=1.8->nbclassic>=0.4.7->notebook>=4.0.0->ipyslickgrid==0.0.3->bamboolib) (3.4)\n",
      "Requirement already satisfied: sniffio>=1.1 in c:\\users\\billy ke\\anaconda3\\lib\\site-packages (from anyio<4,>=3.1.0->jupyter-server>=1.8->nbclassic>=0.4.7->notebook>=4.0.0->ipyslickgrid==0.0.3->bamboolib) (1.2.0)\n",
      "Installing collected packages: pandas\n",
      "  Attempting uninstall: pandas\n",
      "    Found existing installation: pandas 2.1.1\n",
      "    Uninstalling pandas-2.1.1:\n",
      "      Successfully uninstalled pandas-2.1.1\n",
      "Successfully installed pandas-1.5.3\n"
     ]
    },
    {
     "ename": "ContextualVersionConflict",
     "evalue": "(ipywidgets 8.0.4 (c:\\users\\billy ke\\anaconda3\\lib\\site-packages), Requirement.parse('ipywidgets<8.0.0,>=7.6.0'), {'bamboolib'})",
     "output_type": "error",
     "traceback": [
      "\u001b[1;31m---------------------------------------------------------------------------\u001b[0m",
      "\u001b[1;31mContextualVersionConflict\u001b[0m                 Traceback (most recent call last)",
      "Cell \u001b[1;32mIn[75], line 2\u001b[0m\n\u001b[0;32m      1\u001b[0m get_ipython()\u001b[38;5;241m.\u001b[39msystem(\u001b[38;5;124m'\u001b[39m\u001b[38;5;124mpip install bamboolib\u001b[39m\u001b[38;5;124m'\u001b[39m)\n\u001b[1;32m----> 2\u001b[0m \u001b[38;5;28;01mimport\u001b[39;00m \u001b[38;5;21;01mbamboolib\u001b[39;00m \u001b[38;5;28;01mas\u001b[39;00m \u001b[38;5;21;01mbam\u001b[39;00m\n\u001b[0;32m      3\u001b[0m bam\u001b[38;5;241m.\u001b[39menable()\n",
      "File \u001b[1;32m~\\anaconda3\\Lib\\site-packages\\bamboolib\\__init__.py:10\u001b[0m\n\u001b[0;32m      7\u001b[0m \u001b[38;5;28;01mfrom\u001b[39;00m \u001b[38;5;21;01mpkg_resources\u001b[39;00m \u001b[38;5;28;01mimport\u001b[39;00m get_distribution, DistributionNotFound\n\u001b[0;32m      9\u001b[0m \u001b[38;5;28;01mtry\u001b[39;00m:\n\u001b[1;32m---> 10\u001b[0m     __version__ \u001b[38;5;241m=\u001b[39m get_distribution(\u001b[38;5;18m__name__\u001b[39m)\u001b[38;5;241m.\u001b[39mversion\n\u001b[0;32m     11\u001b[0m \u001b[38;5;28;01mexcept\u001b[39;00m DistributionNotFound:\n\u001b[0;32m     12\u001b[0m     __version__ \u001b[38;5;241m=\u001b[39m \u001b[38;5;124m\"\u001b[39m\u001b[38;5;124munknown\u001b[39m\u001b[38;5;124m\"\u001b[39m\n",
      "File \u001b[1;32m~\\anaconda3\\Lib\\site-packages\\pkg_resources\\__init__.py:528\u001b[0m, in \u001b[0;36mget_distribution\u001b[1;34m(dist)\u001b[0m\n\u001b[0;32m    526\u001b[0m     dist \u001b[38;5;241m=\u001b[39m Requirement\u001b[38;5;241m.\u001b[39mparse(dist)\n\u001b[0;32m    527\u001b[0m \u001b[38;5;28;01mif\u001b[39;00m \u001b[38;5;28misinstance\u001b[39m(dist, Requirement):\n\u001b[1;32m--> 528\u001b[0m     dist \u001b[38;5;241m=\u001b[39m get_provider(dist)\n\u001b[0;32m    529\u001b[0m \u001b[38;5;28;01mif\u001b[39;00m \u001b[38;5;129;01mnot\u001b[39;00m \u001b[38;5;28misinstance\u001b[39m(dist, Distribution):\n\u001b[0;32m    530\u001b[0m     \u001b[38;5;28;01mraise\u001b[39;00m \u001b[38;5;167;01mTypeError\u001b[39;00m(\u001b[38;5;124m\"\u001b[39m\u001b[38;5;124mExpected string, Requirement, or Distribution\u001b[39m\u001b[38;5;124m\"\u001b[39m, dist)\n",
      "File \u001b[1;32m~\\anaconda3\\Lib\\site-packages\\pkg_resources\\__init__.py:400\u001b[0m, in \u001b[0;36mget_provider\u001b[1;34m(moduleOrReq)\u001b[0m\n\u001b[0;32m    398\u001b[0m \u001b[38;5;250m\u001b[39m\u001b[38;5;124;03m\"\"\"Return an IResourceProvider for the named module or requirement\"\"\"\u001b[39;00m\n\u001b[0;32m    399\u001b[0m \u001b[38;5;28;01mif\u001b[39;00m \u001b[38;5;28misinstance\u001b[39m(moduleOrReq, Requirement):\n\u001b[1;32m--> 400\u001b[0m     \u001b[38;5;28;01mreturn\u001b[39;00m working_set\u001b[38;5;241m.\u001b[39mfind(moduleOrReq) \u001b[38;5;129;01mor\u001b[39;00m require(\u001b[38;5;28mstr\u001b[39m(moduleOrReq))[\u001b[38;5;241m0\u001b[39m]\n\u001b[0;32m    401\u001b[0m \u001b[38;5;28;01mtry\u001b[39;00m:\n\u001b[0;32m    402\u001b[0m     module \u001b[38;5;241m=\u001b[39m sys\u001b[38;5;241m.\u001b[39mmodules[moduleOrReq]\n",
      "File \u001b[1;32m~\\anaconda3\\Lib\\site-packages\\pkg_resources\\__init__.py:968\u001b[0m, in \u001b[0;36mWorkingSet.require\u001b[1;34m(self, *requirements)\u001b[0m\n\u001b[0;32m    959\u001b[0m \u001b[38;5;28;01mdef\u001b[39;00m \u001b[38;5;21mrequire\u001b[39m(\u001b[38;5;28mself\u001b[39m, \u001b[38;5;241m*\u001b[39mrequirements):\n\u001b[0;32m    960\u001b[0m \u001b[38;5;250m    \u001b[39m\u001b[38;5;124;03m\"\"\"Ensure that distributions matching `requirements` are activated\u001b[39;00m\n\u001b[0;32m    961\u001b[0m \n\u001b[0;32m    962\u001b[0m \u001b[38;5;124;03m    `requirements` must be a string or a (possibly-nested) sequence\u001b[39;00m\n\u001b[1;32m   (...)\u001b[0m\n\u001b[0;32m    966\u001b[0m \u001b[38;5;124;03m    included, even if they were already activated in this working set.\u001b[39;00m\n\u001b[0;32m    967\u001b[0m \u001b[38;5;124;03m    \"\"\"\u001b[39;00m\n\u001b[1;32m--> 968\u001b[0m     needed \u001b[38;5;241m=\u001b[39m \u001b[38;5;28mself\u001b[39m\u001b[38;5;241m.\u001b[39mresolve(parse_requirements(requirements))\n\u001b[0;32m    970\u001b[0m     \u001b[38;5;28;01mfor\u001b[39;00m dist \u001b[38;5;129;01min\u001b[39;00m needed:\n\u001b[0;32m    971\u001b[0m         \u001b[38;5;28mself\u001b[39m\u001b[38;5;241m.\u001b[39madd(dist)\n",
      "File \u001b[1;32m~\\anaconda3\\Lib\\site-packages\\pkg_resources\\__init__.py:829\u001b[0m, in \u001b[0;36mWorkingSet.resolve\u001b[1;34m(self, requirements, env, installer, replace_conflicting, extras)\u001b[0m\n\u001b[0;32m    826\u001b[0m \u001b[38;5;28;01mif\u001b[39;00m \u001b[38;5;129;01mnot\u001b[39;00m req_extras\u001b[38;5;241m.\u001b[39mmarkers_pass(req, extras):\n\u001b[0;32m    827\u001b[0m     \u001b[38;5;28;01mcontinue\u001b[39;00m\n\u001b[1;32m--> 829\u001b[0m dist \u001b[38;5;241m=\u001b[39m \u001b[38;5;28mself\u001b[39m\u001b[38;5;241m.\u001b[39m_resolve_dist(\n\u001b[0;32m    830\u001b[0m     req, best, replace_conflicting, env, installer, required_by, to_activate\n\u001b[0;32m    831\u001b[0m )\n\u001b[0;32m    833\u001b[0m \u001b[38;5;66;03m# push the new requirements onto the stack\u001b[39;00m\n\u001b[0;32m    834\u001b[0m new_requirements \u001b[38;5;241m=\u001b[39m dist\u001b[38;5;241m.\u001b[39mrequires(req\u001b[38;5;241m.\u001b[39mextras)[::\u001b[38;5;241m-\u001b[39m\u001b[38;5;241m1\u001b[39m]\n",
      "File \u001b[1;32m~\\anaconda3\\Lib\\site-packages\\pkg_resources\\__init__.py:875\u001b[0m, in \u001b[0;36mWorkingSet._resolve_dist\u001b[1;34m(self, req, best, replace_conflicting, env, installer, required_by, to_activate)\u001b[0m\n\u001b[0;32m    872\u001b[0m \u001b[38;5;28;01mif\u001b[39;00m dist \u001b[38;5;129;01mnot\u001b[39;00m \u001b[38;5;129;01min\u001b[39;00m req:\n\u001b[0;32m    873\u001b[0m     \u001b[38;5;66;03m# Oops, the \"best\" so far conflicts with a dependency\u001b[39;00m\n\u001b[0;32m    874\u001b[0m     dependent_req \u001b[38;5;241m=\u001b[39m required_by[req]\n\u001b[1;32m--> 875\u001b[0m     \u001b[38;5;28;01mraise\u001b[39;00m VersionConflict(dist, req)\u001b[38;5;241m.\u001b[39mwith_context(dependent_req)\n\u001b[0;32m    876\u001b[0m \u001b[38;5;28;01mreturn\u001b[39;00m dist\n",
      "\u001b[1;31mContextualVersionConflict\u001b[0m: (ipywidgets 8.0.4 (c:\\users\\billy ke\\anaconda3\\lib\\site-packages), Requirement.parse('ipywidgets<8.0.0,>=7.6.0'), {'bamboolib'})"
     ]
    }
   ],
   "source": [
    "!pip install bamboolib\n",
    "import bamboolib as bam\n",
    "bam.enable()"
   ]
  },
  {
   "cell_type": "code",
   "execution_count": 78,
   "id": "a4020de0",
   "metadata": {},
   "outputs": [],
   "source": [
    "import numpy as np\n",
    "import matplotlib.pyplot as plt\n",
    "from sklearn.model_selection import train_test_split\n",
    "from sklearn.preprocessing import StandardScaler\n",
    "from sklearn.neighbors import KNeighborsRegressor\n",
    "from sklearn.metrics import mean_squared_error, r2_score"
   ]
  },
  {
   "cell_type": "code",
   "execution_count": null,
   "id": "31d7ecf5",
   "metadata": {},
   "outputs": [],
   "source": [
    "# Data preprocessing\n",
    "# Convert 'Central Air' to numerical values (1 for 'Y', 0 for 'N')\n",
    "df['Central Air'] = df['Central Air'].apply(lambda x: 1 if x == 'Y' else 0)"
   ]
  },
  {
   "cell_type": "code",
   "execution_count": 26,
   "id": "f7b07c44",
   "metadata": {},
   "outputs": [],
   "source": [
    "# Handle missing values (replace with mean for simplicity)\n",
    "df.fillna(df.mean(), inplace=True)"
   ]
  },
  {
   "cell_type": "code",
   "execution_count": 27,
   "id": "746a9cec",
   "metadata": {},
   "outputs": [],
   "source": [
    "# Define features (X) and target (y)\n",
    "X = df.drop('SalePrice', axis=1)\n",
    "y = df['SalePrice']"
   ]
  },
  {
   "cell_type": "code",
   "execution_count": 28,
   "id": "c3b6d734",
   "metadata": {},
   "outputs": [],
   "source": [
    "# Standardize the features\n",
    "scaler = StandardScaler()\n",
    "X_scaled = scaler.fit_transform(X)\n"
   ]
  },
  {
   "cell_type": "code",
   "execution_count": 29,
   "id": "9b1e7fb9",
   "metadata": {},
   "outputs": [],
   "source": [
    "\n",
    "# Split the data into training and testing sets (70% train, 30% test)\n",
    "X_train, X_test, y_train, y_test = train_test_split(X_scaled, y, test_size=0.3, random_state=42)\n"
   ]
  },
  {
   "cell_type": "code",
   "execution_count": 30,
   "id": "ad5159d6",
   "metadata": {},
   "outputs": [],
   "source": [
    "# KNN regression for different values of K\n",
    "mse_train = []\n",
    "mse_test = []\n",
    "k_values = range(1, 10)\n",
    "\n",
    "for k in k_values:\n",
    "    knn = KNeighborsRegressor(n_neighbors=k)\n",
    "    knn.fit(X_train, y_train)\n",
    "    y_pred_train = knn.predict(X_train)\n",
    "    y_pred_test = knn.predict(X_test)\n",
    "    mse_train.append(mean_squared_error(y_train, y_pred_train))\n",
    "    mse_test.append(mean_squared_error(y_test, y_pred_test))\n",
    "\n"
   ]
  },
  {
   "cell_type": "code",
   "execution_count": 31,
   "id": "e7992298",
   "metadata": {},
   "outputs": [
    {
     "data": {
      "image/png": "[encoded data removed]",
      "text/plain": [
       "<Figure size 1000x600 with 1 Axes>"
      ]
     },
     "metadata": {},
     "output_type": "display_data"
    }
   ],
   "source": [
    "# Plotting MSE for different values of K\n",
    "plt.figure(figsize=(10, 6))\n",
    "plt.plot(k_values, mse_train, label='Train MSE')\n",
    "plt.plot(k_values, mse_test, label='Test MSE')\n",
    "plt.xlabel('K (Number of Neighbors)')\n",
    "plt.ylabel('Mean Squared Error (MSE)')\n",
    "plt.title('Mean Squared Error vs. K for KNN Regression')\n",
    "plt.legend()\n",
    "plt.grid(True)\n",
    "plt.show()\n",
    "\n"
   ]
  },
  {
   "cell_type": "code",
   "execution_count": 32,
   "id": "8712e1d3",
   "metadata": {},
   "outputs": [],
   "source": [
    "# Choose the optimal K (minimize test MSE)\n",
    "optimal_k = k_values[np.argmin(mse_test)]\n",
    "\n"
   ]
  },
  {
   "cell_type": "code",
   "execution_count": 33,
   "id": "68f3209a",
   "metadata": {},
   "outputs": [
    {
     "name": "stdout",
     "output_type": "stream",
     "text": [
      "Optimal K: 9\n",
      "Train MSE: 828828063.3627259\n",
      "Test MSE: 950748572.3268164\n",
      "Train R-squared: 0.8638089691196541\n",
      "Test R-squared: 0.8647473758901378\n"
     ]
    }
   ],
   "source": [
    "# Display metrics for the optimal K\n",
    "knn_optimal = KNeighborsRegressor(n_neighbors=optimal_k)\n",
    "knn_optimal.fit(X_train, y_train)\n",
    "y_pred_train_optimal = knn_optimal.predict(X_train)\n",
    "y_pred_test_optimal = knn_optimal.predict(X_test)\n",
    "\n",
    "train_mse_optimal = mean_squared_error(y_train, y_pred_train_optimal)\n",
    "test_mse_optimal = mean_squared_error(y_test, y_pred_test_optimal)\n",
    "train_r2_optimal = r2_score(y_train, y_pred_train_optimal)\n",
    "test_r2_optimal = r2_score(y_test, y_pred_test_optimal)\n",
    "\n",
    "print('Optimal K:', optimal_k)\n",
    "print('Train MSE:', train_mse_optimal)\n",
    "print('Test MSE:', test_mse_optimal)\n",
    "print('Train R-squared:', train_r2_optimal)\n",
    "print('Test R-squared:', test_r2_optimal)"
   ]
  },
  {
   "cell_type": "code",
   "execution_count": 34,
   "id": "9fbdfe68",
   "metadata": {},
   "outputs": [],
   "source": [
    "from sklearn.model_selection import train_test_split\n",
    "from sklearn.preprocessing import StandardScaler, PolynomialFeatures\n",
    "from sklearn.linear_model import LinearRegression, Lasso, Ridge"
   ]
  },
  {
   "cell_type": "code",
   "execution_count": 35,
   "id": "83498839",
   "metadata": {},
   "outputs": [],
   "source": [
    "# Handle missing values \n",
    "df.fillna(df.mean(), inplace=True)\n",
    "\n",
    "# Define features (X) and target (y)\n",
    "X = df.drop('SalePrice', axis=1)\n",
    "y = df['SalePrice']"
   ]
  },
  {
   "cell_type": "code",
   "execution_count": 36,
   "id": "d7d8e6ce",
   "metadata": {},
   "outputs": [],
   "source": [
    "# Standardize the features\n",
    "scaler = StandardScaler()\n",
    "X_scaled = scaler.fit_transform(X)\n",
    "\n",
    "# Split the data into training and testing sets (70% train, 30% test)\n",
    "X_train, X_test, y_train, y_test = train_test_split(X_scaled, y, test_size=0.3, random_state=42)\n"
   ]
  },
  {
   "cell_type": "code",
   "execution_count": 37,
   "id": "c2be93ee",
   "metadata": {},
   "outputs": [],
   "source": [
    "# Linear Regression\n",
    "linear_reg = LinearRegression()\n",
    "linear_reg.fit(X_train, y_train)\n",
    "y_pred_train_linear = linear_reg.predict(X_train)\n",
    "y_pred_test_linear = linear_reg.predict(X_test)\n"
   ]
  },
  {
   "cell_type": "code",
   "execution_count": 38,
   "id": "c92bffe0",
   "metadata": {},
   "outputs": [],
   "source": [
    "# Lasso Regression\n",
    "lasso_reg = Lasso()\n",
    "lasso_reg.fit(X_train, y_train)\n",
    "y_pred_train_lasso = lasso_reg.predict(X_train)\n",
    "y_pred_test_lasso = lasso_reg.predict(X_test)\n"
   ]
  },
  {
   "cell_type": "code",
   "execution_count": 39,
   "id": "4811c047",
   "metadata": {},
   "outputs": [],
   "source": [
    "# Ridge Regression\n",
    "ridge_reg = Ridge()\n",
    "ridge_reg.fit(X_train, y_train)\n",
    "y_pred_train_ridge = ridge_reg.predict(X_train)\n",
    "y_pred_test_ridge = ridge_reg.predict(X_test)\n"
   ]
  },
  {
   "cell_type": "code",
   "execution_count": 40,
   "id": "36a9ab0d",
   "metadata": {},
   "outputs": [],
   "source": [
    "# Computing MSE and R-squared for each model\n",
    "def calculate_metrics(y_true, y_pred):\n",
    "    mse = mean_squared_error(y_true, y_pred)\n",
    "    r2 = r2_score(y_true, y_pred)\n",
    "    return mse, r2"
   ]
  },
  {
   "cell_type": "code",
   "execution_count": 56,
   "id": "ad483083",
   "metadata": {},
   "outputs": [],
   "source": [
    "train_mse_linear, train_r2_linear = calculate_metrics(y_train, y_pred_train_linear)\n",
    "test_mse_linear, test_r2_linear = calculate_metrics(y_test, y_pred_test_linear)\n",
    "\n",
    "train_mse_lasso, train_r2_lasso = calculate_metrics(y_train, y_pred_train_lasso)\n",
    "test_mse_lasso, test_r2_lasso = calculate_metrics(y_test, y_pred_test_lasso)\n",
    "\n",
    "train_mse_ridge, train_r2_ridge = calculate_metrics(y_train, y_pred_train_ridge)\n",
    "test_mse_ridge, test_r2_ridge = calculate_metrics(y_test, y_pred_test_ridge)"
   ]
  },
  {
   "cell_type": "code",
   "execution_count": 57,
   "id": "c06e1f28",
   "metadata": {},
   "outputs": [
    {
     "name": "stdout",
     "output_type": "stream",
     "text": [
      "Linear Regression:\n",
      "Train MSE: 1509148398.3408568\n",
      "Train R-squared: 0.7520203704401891\n",
      "Test MSE: 1504823279.6176674\n",
      "Test R-squared: 0.7859252137588957\n",
      "\n",
      "Lasso Regression:\n",
      "Train MSE: 1509148401.5959206\n",
      "Train R-squared: 0.7520203699053248\n",
      "Test MSE: 1504836371.2496274\n",
      "Test R-squared: 0.7859233513552824\n",
      "\n",
      "Ridge Regression:\n",
      "Train MSE: 1509148792.239572\n",
      "Train R-squared: 0.752020305715701\n",
      "Test MSE: 1505006843.1119487\n",
      "Test R-squared: 0.7858991001837455\n"
     ]
    }
   ],
   "source": [
    "print('Linear Regression:')\n",
    "print('Train MSE:', train_mse_linear)\n",
    "print('Train R-squared:', train_r2_linear)\n",
    "print('Test MSE:', test_mse_linear)\n",
    "print('Test R-squared:', test_r2_linear)\n",
    "\n",
    "print('\\nLasso Regression:')\n",
    "print('Train MSE:', train_mse_lasso)\n",
    "print('Train R-squared:', train_r2_lasso)\n",
    "print('Test MSE:', test_mse_lasso)\n",
    "print('Test R-squared:', test_r2_lasso)\n",
    "\n",
    "print('\\nRidge Regression:')\n",
    "print('Train MSE:', train_mse_ridge)\n",
    "print('Train R-squared:', train_r2_ridge)\n",
    "print('Test MSE:', test_mse_ridge)\n",
    "print('Test R-squared:', test_r2_ridge)"
   ]
  },
  {
   "cell_type": "markdown",
   "id": "4bd4fc93",
   "metadata": {},
   "source": [
    "### The case below shows a linear relationship between overall quality of the house and sale price"
   ]
  },
  {
   "cell_type": "code",
   "execution_count": 52,
   "id": "69a13994",
   "metadata": {},
   "outputs": [
    {
     "data": {
      "image/png": "[encoded data removed]",
      "text/plain": [
       "<Figure size 1000x600 with 1 Axes>"
      ]
     },
     "metadata": {},
     "output_type": "display_data"
    }
   ],
   "source": [
    "# Load the data\n",
    "columns = ['Overall Qual', 'SalePrice']\n",
    "url = 'http://jse.amstat.org/v19n3/decock/AmesHousing.txt'\n",
    "df = pd.read_csv(url, sep='\\t', usecols=columns)\n",
    "\n",
    "# Plotting \"Overall Qual\" vs \"SalePrice\"\n",
    "plt.figure(figsize=(10, 6))\n",
    "plt.scatter(df['Overall Qual'], df['SalePrice'], alpha=0.5)\n",
    "plt.xlabel('Overall Qual')\n",
    "plt.ylabel('SalePrice')\n",
    "plt.title('Overall Qual vs SalePrice')\n",
    "plt.grid(True)\n",
    "plt.show()"
   ]
  },
  {
   "cell_type": "code",
   "execution_count": 53,
   "id": "9ca33647",
   "metadata": {},
   "outputs": [],
   "source": [
    "# Standardize the features\n",
    "scaler = StandardScaler()\n",
    "X_scaled = scaler.fit_transform(X)\n",
    "\n",
    "# Extend features by including polynomial features of degree 3\n",
    "poly = PolynomialFeatures(degree=3)\n",
    "X_poly = poly.fit_transform(X_scaled)\n",
    "\n",
    "# Split the extended data into training and testing sets (70% train, 30% test)\n",
    "X_poly_train, X_poly_test, y_train, y_test = train_test_split(X_poly, y, test_size=0.3, random_state=42)\n",
    "\n"
   ]
  },
  {
   "cell_type": "code",
   "execution_count": 54,
   "id": "91c2b7ef",
   "metadata": {},
   "outputs": [
    {
     "name": "stderr",
     "output_type": "stream",
     "text": [
      "C:\\Users\\Billy KE\\anaconda3\\Lib\\site-packages\\sklearn\\linear_model\\_coordinate_descent.py:628: ConvergenceWarning: Objective did not converge. You might want to increase the number of iterations, check the scale of the features or consider increasing regularisation. Duality gap: 8.092e+11, tolerance: 1.248e+09\n",
      "  model = cd_fast.enet_coordinate_descent(\n"
     ]
    }
   ],
   "source": [
    "# Linear Regression with polynomial features\n",
    "linear_reg_poly = LinearRegression()\n",
    "linear_reg_poly.fit(X_poly_train, y_train)\n",
    "y_pred_train_poly = linear_reg_poly.predict(X_poly_train)\n",
    "y_pred_test_poly = linear_reg_poly.predict(X_poly_test)\n",
    "\n",
    "# Lasso Regression with polynomial features\n",
    "lasso_reg_poly = Lasso()\n",
    "lasso_reg_poly.fit(X_poly_train, y_train)\n",
    "y_pred_train_lasso_poly = lasso_reg_poly.predict(X_poly_train)\n",
    "y_pred_test_lasso_poly = lasso_reg_poly.predict(X_poly_test)\n",
    "\n",
    "# Ridge Regression with polynomial features\n",
    "ridge_reg_poly = Ridge()\n",
    "ridge_reg_poly.fit(X_poly_train, y_train)\n",
    "y_pred_train_ridge_poly = ridge_reg_poly.predict(X_poly_train)\n",
    "y_pred_test_ridge_poly = ridge_reg_poly.predict(X_poly_test)\n",
    "\n"
   ]
  },
  {
   "cell_type": "code",
   "execution_count": 55,
   "id": "92f76c5a",
   "metadata": {},
   "outputs": [
    {
     "name": "stdout",
     "output_type": "stream",
     "text": [
      "Linear Regression with Polynomial Features (degree=3):\n",
      "Train MSE: 790688616.7030267\n",
      "Train R-squared: 0.8700759511239992\n",
      "Test MSE: 1062838245.6542048\n",
      "Test R-squared: 0.8488016012716774\n",
      "\n",
      "Lasso Regression with Polynomial Features (degree=3):\n",
      "Train MSE: 790916307.172803\n",
      "Train R-squared: 0.8700385375744691\n",
      "Test MSE: 1066942327.8659607\n",
      "Test R-squared: 0.8482177582822064\n",
      "\n",
      "Ridge Regression with Polynomial Features (degree=3):\n",
      "Train MSE: 790690941.070909\n",
      "Train R-squared: 0.8700755691894677\n",
      "Test MSE: 1062651893.569004\n",
      "Test R-squared: 0.8488281115492264\n"
     ]
    }
   ],
   "source": [
    "# Computing MSE and R-squared for each model with polynomial features\n",
    "def calculate_metrics(y_true, y_pred):\n",
    "    mse = mean_squared_error(y_true, y_pred)\n",
    "    r2 = r2_score(y_true, y_pred)\n",
    "    return mse, r2\n",
    "\n",
    "train_mse_poly, train_r2_poly = calculate_metrics(y_train, y_pred_train_poly)\n",
    "test_mse_poly, test_r2_poly = calculate_metrics(y_test, y_pred_test_poly)\n",
    "\n",
    "train_mse_lasso_poly, train_r2_lasso_poly = calculate_metrics(y_train, y_pred_train_lasso_poly)\n",
    "test_mse_lasso_poly, test_r2_lasso_poly = calculate_metrics(y_test, y_pred_test_lasso_poly)\n",
    "\n",
    "train_mse_ridge_poly, train_r2_ridge_poly = calculate_metrics(y_train, y_pred_train_ridge_poly)\n",
    "test_mse_ridge_poly, test_r2_ridge_poly = calculate_metrics(y_test, y_pred_test_ridge_poly)\n",
    "\n",
    "print('Linear Regression with Polynomial Features (degree=3):')\n",
    "print('Train MSE:', train_mse_poly)\n",
    "print('Train R-squared:', train_r2_poly)\n",
    "print('Test MSE:', test_mse_poly)\n",
    "print('Test R-squared:', test_r2_poly)\n",
    "\n",
    "print('\\nLasso Regression with Polynomial Features (degree=3):')\n",
    "print('Train MSE:', train_mse_lasso_poly)\n",
    "print('Train R-squared:', train_r2_lasso_poly)\n",
    "print('Test MSE:', test_mse_lasso_poly)\n",
    "print('Test R-squared:', test_r2_lasso_poly)\n",
    "\n",
    "print('\\nRidge Regression with Polynomial Features (degree=3):')\n",
    "print('Train MSE:', train_mse_ridge_poly)\n",
    "print('Train R-squared:', train_r2_ridge_poly)\n",
    "print('Test MSE:', test_mse_ridge_poly)\n",
    "print('Test R-squared:', test_r2_ridge_poly)"
   ]
  },
  {
   "cell_type": "markdown",
   "id": "82c97942",
   "metadata": {},
   "source": [
    "### Did the Performance improve\n",
    "Yes.\n",
    "Extending the feature set with polynomial features of degree 3 \n",
    "improved performance in all the regression ie. linear, Lasso, and Ridge regressions.\n",
    "These models better captured complex relationships in the data with the features extendend,\n",
    "resulting in reduced Mean Squared Error (MSE) and increased R-squared values, \n",
    "showing a significant improvement predictive accuracy for the housing dataset hence improvement in the perfomance."
   ]
  },
  {
   "cell_type": "markdown",
   "id": "b3f02d4c",
   "metadata": {},
   "source": []
  }
 ],
 "metadata": {
  "kernelspec": {
   "display_name": "Python 3 (ipykernel)",
   "language": "python",
   "name": "python3"
  },
  "language_info": {
   "codemirror_mode": {
    "name": "ipython",
    "version": 3
   },
   "file_extension": ".py",
   "mimetype": "text/x-python",
   "name": "python",
   "nbconvert_exporter": "python",
   "pygments_lexer": "ipython3",
   "version": "3.11.4"
  },
  "vp": {
   "vp_config_version": "1.0.0",
   "vp_menu_width": 273,
   "vp_note_display": false,
   "vp_note_width": 0,
   "vp_position": {
    "width": 278
   },
   "vp_section_display": false,
   "vp_signature": "VisualPython"
  }
 },
 "nbformat": 4,
 "nbformat_minor": 5
}
